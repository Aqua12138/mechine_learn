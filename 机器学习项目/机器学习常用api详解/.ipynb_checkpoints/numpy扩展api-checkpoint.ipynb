{
 "cells": [
  {
   "cell_type": "markdown",
   "id": "e6afb050",
   "metadata": {},
   "source": [
    "# np.vstack((a,b))"
   ]
  },
  {
   "cell_type": "code",
   "execution_count": 1,
   "id": "62431193",
   "metadata": {},
   "outputs": [],
   "source": [
    "import numpy as np"
   ]
  },
  {
   "cell_type": "code",
   "execution_count": 2,
   "id": "5367c351",
   "metadata": {},
   "outputs": [
    {
     "data": {
      "text/plain": [
       "array([[1, 2, 3],\n",
       "       [4, 5, 6]])"
      ]
     },
     "execution_count": 2,
     "metadata": {},
     "output_type": "execute_result"
    }
   ],
   "source": [
    "a = np.array([1, 2, 3])\n",
    "b = np.array([4, 5, 6])\n",
    "np.vstack((a,b))"
   ]
  },
  {
   "cell_type": "code",
   "execution_count": 3,
   "id": "36721fb9",
   "metadata": {},
   "outputs": [
    {
     "data": {
      "text/plain": [
       "array([[1],\n",
       "       [2],\n",
       "       [3],\n",
       "       [4],\n",
       "       [5],\n",
       "       [6]])"
      ]
     },
     "execution_count": 3,
     "metadata": {},
     "output_type": "execute_result"
    }
   ],
   "source": [
    "a = np.array([[1], [2], [3]])\n",
    "b = np.array([[4], [5], [6]])\n",
    "np.vstack((a,b))"
   ]
  },
  {
   "cell_type": "code",
   "execution_count": 4,
   "id": "4d4a9469",
   "metadata": {},
   "outputs": [
    {
     "data": {
      "text/plain": [
       "array([[1, 2, 3, 4, 5, 6, 7],\n",
       "       [1, 2, 3, 4, 5, 6, 7],\n",
       "       [1, 2, 3, 4, 5, 6, 7],\n",
       "       [1, 2, 3, 4, 5, 6, 7],\n",
       "       [1, 2, 3, 4, 5, 6, 7],\n",
       "       [1, 2, 3, 4, 5, 6, 7],\n",
       "       [1, 2, 3, 4, 5, 6, 7]])"
      ]
     },
     "execution_count": 4,
     "metadata": {},
     "output_type": "execute_result"
    }
   ],
   "source": [
    "a = np.array([1,2,3,4,5,6,7] )\n",
    "np.vstack([a for i in range(7)])#重复7次vstack"
   ]
  },
  {
   "cell_type": "markdown",
   "id": "665c3a18",
   "metadata": {},
   "source": [
    "# np.empty([m,n],dtype=)"
   ]
  },
  {
   "cell_type": "code",
   "execution_count": 5,
   "id": "7c4aeca2",
   "metadata": {},
   "outputs": [
    {
     "data": {
      "text/plain": [
       "array([[-9223372036854775808, -9223372036854775808],\n",
       "       [                   2,      562949953421320]])"
      ]
     },
     "execution_count": 5,
     "metadata": {},
     "output_type": "execute_result"
    }
   ],
   "source": [
    "np.empty([2, 2], dtype=int)"
   ]
  },
  {
   "cell_type": "code",
   "execution_count": 6,
   "id": "1de1d98b",
   "metadata": {},
   "outputs": [
    {
     "data": {
      "text/plain": [
       "array([[-0.00000000e+000,  2.32035532e+077],\n",
       "       [ 1.48219694e-323,  0.00000000e+000]])"
      ]
     },
     "execution_count": 6,
     "metadata": {},
     "output_type": "execute_result"
    }
   ],
   "source": [
    "np.empty([2, 2], dtype=np.float64)"
   ]
  },
  {
   "cell_type": "markdown",
   "id": "4d25eb0e",
   "metadata": {},
   "source": [
    "# np.empty_like(a)"
   ]
  },
  {
   "cell_type": "code",
   "execution_count": 7,
   "id": "b2949509",
   "metadata": {},
   "outputs": [
    {
     "data": {
      "text/plain": [
       "array([[-9223372036854775808, -9223372036854775808,       35871566856198],\n",
       "       [ 5572452859464646656,                    0,                    0]])"
      ]
     },
     "execution_count": 7,
     "metadata": {},
     "output_type": "execute_result"
    }
   ],
   "source": [
    "a = ([1,2,3], [4,5,6])                         # a is array-like\n",
    "np.empty_like(a)"
   ]
  },
  {
   "cell_type": "markdown",
   "id": "93fbd669",
   "metadata": {},
   "source": [
    "# np.random.permutation"
   ]
  },
  {
   "cell_type": "code",
   "execution_count": 8,
   "id": "299e5f51",
   "metadata": {},
   "outputs": [
    {
     "data": {
      "text/plain": [
       "array([5, 0, 4, 8, 7, 2, 1, 9, 6, 3])"
      ]
     },
     "execution_count": 8,
     "metadata": {},
     "output_type": "execute_result"
    }
   ],
   "source": [
    "np.random.permutation(10)"
   ]
  },
  {
   "cell_type": "code",
   "execution_count": 9,
   "id": "200e0f4d",
   "metadata": {},
   "outputs": [
    {
     "data": {
      "text/plain": [
       "array([12,  9,  4,  1, 15])"
      ]
     },
     "execution_count": 9,
     "metadata": {},
     "output_type": "execute_result"
    }
   ],
   "source": [
    "np.random.permutation([1, 4, 9, 12, 15])"
   ]
  },
  {
   "cell_type": "code",
   "execution_count": 10,
   "id": "a0e41c3d",
   "metadata": {},
   "outputs": [
    {
     "data": {
      "text/plain": [
       "array([[0, 1, 2],\n",
       "       [3, 4, 5],\n",
       "       [6, 7, 8]])"
      ]
     },
     "execution_count": 10,
     "metadata": {},
     "output_type": "execute_result"
    }
   ],
   "source": [
    "arr = np.arange(9).reshape((3, 3))\n",
    "np.random.permutation(arr)"
   ]
  },
  {
   "cell_type": "markdown",
   "id": "5cc9e7d0",
   "metadata": {},
   "source": [
    "# enumerate(a)"
   ]
  },
  {
   "cell_type": "code",
   "execution_count": 11,
   "id": "f93e8fba",
   "metadata": {},
   "outputs": [
    {
     "data": {
      "text/plain": [
       "[(0, [1, 2]), (1, [3, 4])]"
      ]
     },
     "execution_count": 11,
     "metadata": {},
     "output_type": "execute_result"
    }
   ],
   "source": [
    "seasons = [[1, 2], [3, 4]]\n",
    "a = [[1,2],[3,4]]\n",
    "[(i,j)for i ,j in enumerate(seasons)]"
   ]
  },
  {
   "cell_type": "code",
   "execution_count": 12,
   "id": "3ba8cf9d",
   "metadata": {},
   "outputs": [],
   "source": [
    "pop = np.vstack([np.random.permutation(10) for _ in range(10)])\n",
    "city_position = np.random.randint(1,3,[10,2])"
   ]
  },
  {
   "cell_type": "code",
   "execution_count": 13,
   "id": "7d9051a6",
   "metadata": {},
   "outputs": [
    {
     "name": "stdout",
     "output_type": "stream",
     "text": [
      "[[1 2]\n",
      " [2 2]\n",
      " [2 1]\n",
      " [2 2]\n",
      " [1 1]\n",
      " [2 1]\n",
      " [2 2]\n",
      " [1 2]\n",
      " [2 2]\n",
      " [2 1]]\n",
      "[array([3, 9, 2, 1, 6, 5, 4, 8, 7, 0])]\n",
      "[[2 1]\n",
      " [1 2]\n",
      " [1 2]\n",
      " [2 2]\n",
      " [2 1]\n",
      " [2 1]\n",
      " [2 2]\n",
      " [2 2]\n",
      " [2 2]\n",
      " [1 1]]\n",
      "[array([5, 8, 3, 4, 2, 0, 9, 1, 7, 6])]\n",
      "[[2 2]\n",
      " [2 1]\n",
      " [2 2]\n",
      " [2 1]\n",
      " [2 1]\n",
      " [2 2]\n",
      " [1 2]\n",
      " [1 2]\n",
      " [1 1]\n",
      " [2 2]]\n",
      "[array([1, 5, 4, 0, 2, 7, 3, 8, 6, 9])]\n",
      "[[2 1]\n",
      " [1 2]\n",
      " [1 2]\n",
      " [2 2]\n",
      " [2 1]\n",
      " [2 2]\n",
      " [2 2]\n",
      " [2 2]\n",
      " [2 1]\n",
      " [1 1]]\n",
      "[array([2, 3, 8, 1, 5, 4, 9, 7, 0, 6])]\n",
      "[[2 2]\n",
      " [1 1]\n",
      " [1 2]\n",
      " [2 2]\n",
      " [2 1]\n",
      " [2 1]\n",
      " [2 2]\n",
      " [1 2]\n",
      " [2 2]\n",
      " [2 1]]\n",
      "[array([7, 6, 8, 1, 2, 0, 9, 3, 4, 5])]\n",
      "[[2 1]\n",
      " [2 2]\n",
      " [1 2]\n",
      " [2 1]\n",
      " [2 2]\n",
      " [2 2]\n",
      " [1 2]\n",
      " [1 1]\n",
      " [2 1]\n",
      " [2 2]]\n",
      "[array([2, 4, 8, 5, 1, 7, 3, 6, 0, 9])]\n",
      "[[2 2]\n",
      " [2 1]\n",
      " [2 1]\n",
      " [2 2]\n",
      " [1 1]\n",
      " [2 2]\n",
      " [2 1]\n",
      " [1 2]\n",
      " [2 2]\n",
      " [1 2]]\n",
      "[array([4, 5, 0, 9, 6, 1, 2, 3, 7, 8])]\n",
      "[[2 1]\n",
      " [1 2]\n",
      " [2 2]\n",
      " [2 2]\n",
      " [2 1]\n",
      " [1 2]\n",
      " [2 1]\n",
      " [2 2]\n",
      " [2 2]\n",
      " [1 1]]\n",
      "[array([5, 3, 4, 7, 0, 8, 2, 9, 1, 6])]\n",
      "[[2 2]\n",
      " [2 2]\n",
      " [2 2]\n",
      " [1 2]\n",
      " [2 1]\n",
      " [2 2]\n",
      " [2 1]\n",
      " [2 1]\n",
      " [1 1]\n",
      " [1 2]]\n",
      "[array([4, 7, 1, 3, 5, 9, 2, 0, 6, 8])]\n",
      "[[2 2]\n",
      " [1 1]\n",
      " [2 1]\n",
      " [1 2]\n",
      " [2 1]\n",
      " [2 2]\n",
      " [2 2]\n",
      " [2 2]\n",
      " [2 1]\n",
      " [1 2]]\n",
      "[array([9, 6, 2, 8, 5, 7, 1, 4, 0, 3])]\n"
     ]
    }
   ],
   "source": [
    "for i, d in enumerate(pop):\n",
    "    b = city_position[d]\n",
    "    print(b)\n",
    "    print([d])"
   ]
  },
  {
   "cell_type": "markdown",
   "id": "b4978be9",
   "metadata": {},
   "source": [
    "# zip(a,b)"
   ]
  },
  {
   "cell_type": "code",
   "execution_count": 14,
   "id": "1d1193b3",
   "metadata": {},
   "outputs": [
    {
     "data": {
      "text/plain": [
       "[(4, 4), (5, 5), (6, 6)]"
      ]
     },
     "execution_count": 14,
     "metadata": {},
     "output_type": "execute_result"
    }
   ],
   "source": [
    "a = [[1,2,3],[4,5,6]]\n",
    "b = [4,5,6]\n",
    "c = [4,5,6,7,8]\n",
    "list(zip(b,b))"
   ]
  },
  {
   "cell_type": "code",
   "execution_count": 15,
   "id": "db48d1a9",
   "metadata": {},
   "outputs": [
    {
     "data": {
      "text/plain": [
       "[([1, 2, 3], [1, 2, 3]), ([4, 5, 6], [4, 5, 6])]"
      ]
     },
     "execution_count": 15,
     "metadata": {},
     "output_type": "execute_result"
    }
   ],
   "source": [
    "list(zip(a,a))"
   ]
  },
  {
   "cell_type": "markdown",
   "id": "7e846f84",
   "metadata": {},
   "source": [
    "# np.diff(x)"
   ]
  },
  {
   "cell_type": "code",
   "execution_count": 16,
   "id": "9e6f7071",
   "metadata": {},
   "outputs": [
    {
     "data": {
      "text/plain": [
       "array([ 1,  4, 16])"
      ]
     },
     "execution_count": 16,
     "metadata": {},
     "output_type": "execute_result"
    }
   ],
   "source": [
    "x = np.array([1,2,4,8])\n",
    "np.square(np.diff(x))#计算下一个数到上一个数字的差"
   ]
  },
  {
   "cell_type": "markdown",
   "id": "eb92d37c",
   "metadata": {},
   "source": [
    "# np.isin() "
   ]
  },
  {
   "cell_type": "code",
   "execution_count": 17,
   "id": "1d8ef534",
   "metadata": {},
   "outputs": [
    {
     "data": {
      "text/plain": [
       "array([[0, 2],\n",
       "       [4, 6]])"
      ]
     },
     "execution_count": 17,
     "metadata": {},
     "output_type": "execute_result"
    }
   ],
   "source": [
    "element = 2*np.arange(4).reshape((2, 2))\n",
    "element"
   ]
  },
  {
   "cell_type": "code",
   "execution_count": 18,
   "id": "a881ca02",
   "metadata": {},
   "outputs": [
    {
     "data": {
      "text/plain": [
       "array([[False,  True],\n",
       "       [ True, False]])"
      ]
     },
     "execution_count": 18,
     "metadata": {},
     "output_type": "execute_result"
    }
   ],
   "source": [
    "test_elements = [1, 2, 4, 8]\n",
    "mask = np.isin(element, test_elements)\n",
    "mask"
   ]
  },
  {
   "cell_type": "code",
   "execution_count": 19,
   "id": "4aa7bf8a",
   "metadata": {},
   "outputs": [
    {
     "data": {
      "text/plain": [
       "array([[ True, False],\n",
       "       [False,  True]])"
      ]
     },
     "execution_count": 19,
     "metadata": {},
     "output_type": "execute_result"
    }
   ],
   "source": [
    "test_elements = [1, 2, 4, 8]\n",
    "mask = np.isin(element, test_elements,invert = True)\n",
    "mask"
   ]
  },
  {
   "cell_type": "markdown",
   "id": "18bb99a0",
   "metadata": {},
   "source": [
    "# np.ravel()"
   ]
  },
  {
   "cell_type": "code",
   "execution_count": 20,
   "id": "df658c73",
   "metadata": {},
   "outputs": [
    {
     "data": {
      "text/plain": [
       "array([2, 2, 1, 4, 5, 6])"
      ]
     },
     "execution_count": 20,
     "metadata": {},
     "output_type": "execute_result"
    }
   ],
   "source": [
    "x = np.array([[2,2,1], [4, 5, 6]])\n",
    "x.ravel()"
   ]
  },
  {
   "cell_type": "code",
   "execution_count": 21,
   "id": "afe9a5be",
   "metadata": {},
   "outputs": [
    {
     "data": {
      "text/plain": [
       "array([2, 2, 1, 4, 5, 6])"
      ]
     },
     "execution_count": 21,
     "metadata": {},
     "output_type": "execute_result"
    }
   ],
   "source": [
    "x.ravel(order = 'K')"
   ]
  },
  {
   "cell_type": "code",
   "execution_count": 22,
   "id": "0573a9be",
   "metadata": {},
   "outputs": [
    {
     "data": {
      "text/plain": [
       "array([2, 2, 1, 4, 5, 6])"
      ]
     },
     "execution_count": 22,
     "metadata": {},
     "output_type": "execute_result"
    }
   ],
   "source": [
    "x.ravel(order = 'C')"
   ]
  },
  {
   "cell_type": "code",
   "execution_count": 23,
   "id": "06984f16",
   "metadata": {},
   "outputs": [
    {
     "data": {
      "text/plain": [
       "array([2, 4, 2, 5, 1, 6])"
      ]
     },
     "execution_count": 23,
     "metadata": {},
     "output_type": "execute_result"
    }
   ],
   "source": [
    "x.ravel(order = 'F')"
   ]
  },
  {
   "cell_type": "code",
   "execution_count": 24,
   "id": "b5815cfa",
   "metadata": {},
   "outputs": [
    {
     "data": {
      "text/plain": [
       "array([2, 2, 1, 4, 5, 6])"
      ]
     },
     "execution_count": 24,
     "metadata": {},
     "output_type": "execute_result"
    }
   ],
   "source": [
    "x.ravel(order = 'A')"
   ]
  },
  {
   "cell_type": "markdown",
   "id": "3d6d008e",
   "metadata": {},
   "source": [
    "# np.flatten()"
   ]
  },
  {
   "cell_type": "code",
   "execution_count": 25,
   "id": "a1d7f5c9",
   "metadata": {},
   "outputs": [
    {
     "data": {
      "text/plain": [
       "array([2, 2, 1, 4, 5, 6])"
      ]
     },
     "execution_count": 25,
     "metadata": {},
     "output_type": "execute_result"
    }
   ],
   "source": [
    "x = np.array([[2,2,1], [4, 5, 6]])\n",
    "x.flatten()"
   ]
  },
  {
   "cell_type": "markdown",
   "id": "c9501d9b",
   "metadata": {},
   "source": [
    "# numpy.concatenate（a,b）"
   ]
  },
  {
   "cell_type": "code",
   "execution_count": 26,
   "id": "f089b830",
   "metadata": {},
   "outputs": [
    {
     "data": {
      "text/plain": [
       "array([[1, 2],\n",
       "       [3, 4],\n",
       "       [5, 6]])"
      ]
     },
     "execution_count": 26,
     "metadata": {},
     "output_type": "execute_result"
    }
   ],
   "source": [
    "a = np.array([[1, 2], [3, 4]])\n",
    "b = np.array([[5, 6]])\n",
    "np.concatenate((a, b), axis=0)"
   ]
  },
  {
   "cell_type": "code",
   "execution_count": 27,
   "id": "5fcbacfc",
   "metadata": {},
   "outputs": [
    {
     "data": {
      "text/plain": [
       "array([[1, 2, 5],\n",
       "       [3, 4, 6]])"
      ]
     },
     "execution_count": 27,
     "metadata": {},
     "output_type": "execute_result"
    }
   ],
   "source": [
    "np.concatenate((a, b.T), axis=1)"
   ]
  },
  {
   "cell_type": "code",
   "execution_count": 28,
   "id": "66c008ae",
   "metadata": {},
   "outputs": [
    {
     "data": {
      "text/plain": [
       "array([1, 2, 3, 4, 5, 6])"
      ]
     },
     "execution_count": 28,
     "metadata": {},
     "output_type": "execute_result"
    }
   ],
   "source": [
    "np.concatenate((a, b), axis=None)"
   ]
  },
  {
   "cell_type": "markdown",
   "id": "3574105f",
   "metadata": {},
   "source": [
    "# numpy.choice()"
   ]
  },
  {
   "cell_type": "code",
   "execution_count": 29,
   "id": "0576439d",
   "metadata": {},
   "outputs": [
    {
     "data": {
      "text/plain": [
       "array([7, 6, 0, 9, 6, 2, 6, 9, 9, 7])"
      ]
     },
     "execution_count": 29,
     "metadata": {},
     "output_type": "execute_result"
    }
   ],
   "source": [
    "idx = np.random.choice(np.arange(10),size = 10,replace=True)\n",
    "idx"
   ]
  },
  {
   "cell_type": "code",
   "execution_count": 30,
   "id": "4a91c696",
   "metadata": {},
   "outputs": [],
   "source": [
    "x = [[1,2,5],[3,4,1]]\n",
    "y = [[5,2,1],[9,5,1]]\n",
    "z = np.diff(x)"
   ]
  },
  {
   "cell_type": "code",
   "execution_count": 31,
   "id": "33951ed1",
   "metadata": {},
   "outputs": [],
   "source": [
    "x[1] = [1,2,3]"
   ]
  },
  {
   "cell_type": "code",
   "execution_count": 32,
   "id": "53daaca6",
   "metadata": {},
   "outputs": [
    {
     "data": {
      "text/plain": [
       "[[1, 2, 5], [1, 2, 3]]"
      ]
     },
     "execution_count": 32,
     "metadata": {},
     "output_type": "execute_result"
    }
   ],
   "source": [
    "x"
   ]
  },
  {
   "cell_type": "code",
   "execution_count": 33,
   "id": "8d37bdac",
   "metadata": {},
   "outputs": [
    {
     "data": {
      "text/plain": [
       "0.9197561424553559"
      ]
     },
     "execution_count": 33,
     "metadata": {},
     "output_type": "execute_result"
    }
   ],
   "source": [
    "np.random.rand()"
   ]
  },
  {
   "cell_type": "code",
   "execution_count": 34,
   "id": "6be673cc",
   "metadata": {},
   "outputs": [],
   "source": [
    "x = z[1]"
   ]
  },
  {
   "cell_type": "code",
   "execution_count": 35,
   "id": "0c3c4551",
   "metadata": {},
   "outputs": [
    {
     "data": {
      "text/plain": [
       "array([ 1, -3])"
      ]
     },
     "execution_count": 35,
     "metadata": {},
     "output_type": "execute_result"
    }
   ],
   "source": [
    "x"
   ]
  },
  {
   "cell_type": "code",
   "execution_count": 36,
   "id": "09b94e4a",
   "metadata": {
    "scrolled": true
   },
   "outputs": [
    {
     "name": "stdout",
     "output_type": "stream",
     "text": [
      "[1, 2]\n",
      "[3, 4]\n"
     ]
    }
   ],
   "source": [
    "line_x = [[1,2],[3,4]]\n",
    "line_y = [[5,6],[7,8]]\n",
    "for i, (xs, ys) in enumerate(zip(line_x, line_y)):\n",
    "    print(xs)"
   ]
  },
  {
   "cell_type": "code",
   "execution_count": 37,
   "id": "fd971b22",
   "metadata": {},
   "outputs": [
    {
     "data": {
      "text/plain": [
       "[([1, 2], [5, 6]), ([3, 4], [7, 8])]"
      ]
     },
     "execution_count": 37,
     "metadata": {},
     "output_type": "execute_result"
    }
   ],
   "source": [
    "list(zip(line_x, line_y))"
   ]
  },
  {
   "cell_type": "code",
   "execution_count": 38,
   "id": "4c5c16d6",
   "metadata": {},
   "outputs": [],
   "source": [
    "sqrt = np.diff(line_x)+np.diff(line_y)"
   ]
  },
  {
   "cell_type": "code",
   "execution_count": 39,
   "id": "0693fb6a",
   "metadata": {},
   "outputs": [
    {
     "data": {
      "text/plain": [
       "array([[2],\n",
       "       [2]])"
      ]
     },
     "execution_count": 39,
     "metadata": {},
     "output_type": "execute_result"
    }
   ],
   "source": [
    "sqrt"
   ]
  },
  {
   "cell_type": "code",
   "execution_count": 40,
   "id": "887a4c74",
   "metadata": {},
   "outputs": [
    {
     "data": {
      "text/plain": [
       "array([5.e-324, 5.e-324])"
      ]
     },
     "execution_count": 40,
     "metadata": {},
     "output_type": "execute_result"
    }
   ],
   "source": [
    " np.empty((np.array(line_x).shape[0]), dtype=np.float64)"
   ]
  },
  {
   "cell_type": "markdown",
   "id": "5a0d5f42",
   "metadata": {},
   "source": [
    "# np取值"
   ]
  },
  {
   "cell_type": "code",
   "execution_count": 41,
   "id": "11a552f8",
   "metadata": {},
   "outputs": [],
   "source": [
    "x =np.array([[1,2,3],[4,5,6],[7,8,9]]).astype(np.bool_)\n",
    "y =np.array([[2,3,4],[5,6,7]])"
   ]
  },
  {
   "cell_type": "code",
   "execution_count": 42,
   "id": "0d6712ab",
   "metadata": {},
   "outputs": [
    {
     "data": {
      "text/plain": [
       "array([[ True,  True,  True],\n",
       "       [ True,  True,  True]])"
      ]
     },
     "execution_count": 42,
     "metadata": {},
     "output_type": "execute_result"
    }
   ],
   "source": [
    "z = x[[0,2]]\n",
    "z"
   ]
  },
  {
   "cell_type": "code",
   "execution_count": 43,
   "id": "6e340865",
   "metadata": {},
   "outputs": [],
   "source": [
    "x[[0,2]] = y"
   ]
  },
  {
   "cell_type": "code",
   "execution_count": 44,
   "id": "bc156ace",
   "metadata": {},
   "outputs": [
    {
     "data": {
      "text/plain": [
       "array([[ True,  True,  True],\n",
       "       [ True,  True,  True],\n",
       "       [ True,  True,  True]])"
      ]
     },
     "execution_count": 44,
     "metadata": {},
     "output_type": "execute_result"
    }
   ],
   "source": [
    "x"
   ]
  },
  {
   "cell_type": "code",
   "execution_count": 45,
   "id": "f40aa507",
   "metadata": {},
   "outputs": [
    {
     "data": {
      "text/plain": [
       "array([ True,  True,  True])"
      ]
     },
     "execution_count": 45,
     "metadata": {},
     "output_type": "execute_result"
    }
   ],
   "source": [
    "x[:,0]"
   ]
  },
  {
   "cell_type": "code",
   "execution_count": 46,
   "id": "23e1da70",
   "metadata": {},
   "outputs": [
    {
     "data": {
      "text/plain": [
       "True"
      ]
     },
     "execution_count": 46,
     "metadata": {},
     "output_type": "execute_result"
    }
   ],
   "source": [
    "x[1,2]"
   ]
  },
  {
   "cell_type": "code",
   "execution_count": 47,
   "id": "2df9f924",
   "metadata": {},
   "outputs": [
    {
     "data": {
      "text/plain": [
       "array([ True,  True])"
      ]
     },
     "execution_count": 47,
     "metadata": {},
     "output_type": "execute_result"
    }
   ],
   "source": [
    "x[(1,2),2]"
   ]
  },
  {
   "cell_type": "code",
   "execution_count": 48,
   "id": "2db40c12",
   "metadata": {},
   "outputs": [
    {
     "data": {
      "text/plain": [
       "array([ True,  True])"
      ]
     },
     "execution_count": 48,
     "metadata": {},
     "output_type": "execute_result"
    }
   ],
   "source": [
    "x[[1,2],2]"
   ]
  },
  {
   "cell_type": "markdown",
   "id": "654b483f",
   "metadata": {},
   "source": [
    "# bool"
   ]
  },
  {
   "cell_type": "code",
   "execution_count": 49,
   "id": "537e723f",
   "metadata": {},
   "outputs": [],
   "source": [
    "x = np.random.randint(0,2,size = [10]).astype(np.bool_)"
   ]
  },
  {
   "cell_type": "code",
   "execution_count": 50,
   "id": "766db00e",
   "metadata": {},
   "outputs": [
    {
     "data": {
      "text/plain": [
       "array([ True, False,  True, False,  True,  True,  True, False,  True,\n",
       "       False])"
      ]
     },
     "execution_count": 50,
     "metadata": {},
     "output_type": "execute_result"
    }
   ],
   "source": [
    "x"
   ]
  },
  {
   "cell_type": "code",
   "execution_count": 51,
   "id": "0ecbee8d",
   "metadata": {},
   "outputs": [],
   "source": [
    "y = np.array([1,2,3,4,5,6,7,8,9,10])\n",
    "z = np.array([11,12,13,14,15,16,17,18,19,20])"
   ]
  },
  {
   "cell_type": "code",
   "execution_count": 52,
   "id": "dbd22b2e",
   "metadata": {},
   "outputs": [],
   "source": [
    "y[x] = z[x]"
   ]
  },
  {
   "cell_type": "code",
   "execution_count": 53,
   "id": "3ce285ec",
   "metadata": {},
   "outputs": [
    {
     "data": {
      "text/plain": [
       "array([11,  2, 13,  4, 15, 16, 17,  8, 19, 10])"
      ]
     },
     "execution_count": 53,
     "metadata": {},
     "output_type": "execute_result"
    }
   ],
   "source": [
    "y"
   ]
  },
  {
   "cell_type": "code",
   "execution_count": 54,
   "id": "cf2016ed",
   "metadata": {},
   "outputs": [
    {
     "data": {
      "text/plain": [
       "array([11, 12, 13, 14, 15, 16, 17, 18, 19, 20])"
      ]
     },
     "execution_count": 54,
     "metadata": {},
     "output_type": "execute_result"
    }
   ],
   "source": [
    "z"
   ]
  },
  {
   "cell_type": "code",
   "execution_count": 64,
   "id": "82061386",
   "metadata": {},
   "outputs": [],
   "source": [
    "np.random.seed(2)"
   ]
  },
  {
   "cell_type": "code",
   "execution_count": 68,
   "id": "13c71e8b",
   "metadata": {},
   "outputs": [
    {
     "data": {
      "text/plain": [
       "0"
      ]
     },
     "execution_count": 68,
     "metadata": {},
     "output_type": "execute_result"
    }
   ],
   "source": [
    "np.random.randint(0,2)"
   ]
  },
  {
   "cell_type": "code",
   "execution_count": null,
   "id": "3f53e987",
   "metadata": {},
   "outputs": [],
   "source": []
  },
  {
   "cell_type": "code",
   "execution_count": null,
   "id": "e9ba8340",
   "metadata": {},
   "outputs": [],
   "source": []
  }
 ],
 "metadata": {
  "kernelspec": {
   "display_name": "Python 3 (ipykernel)",
   "language": "python",
   "name": "python3"
  },
  "language_info": {
   "codemirror_mode": {
    "name": "ipython",
    "version": 3
   },
   "file_extension": ".py",
   "mimetype": "text/x-python",
   "name": "python",
   "nbconvert_exporter": "python",
   "pygments_lexer": "ipython3",
   "version": "3.8.10"
  },
  "toc": {
   "base_numbering": 1,
   "nav_menu": {},
   "number_sections": true,
   "sideBar": true,
   "skip_h1_title": false,
   "title_cell": "Table of Contents",
   "title_sidebar": "Contents",
   "toc_cell": false,
   "toc_position": {},
   "toc_section_display": true,
   "toc_window_display": true
  }
 },
 "nbformat": 4,
 "nbformat_minor": 5
}
