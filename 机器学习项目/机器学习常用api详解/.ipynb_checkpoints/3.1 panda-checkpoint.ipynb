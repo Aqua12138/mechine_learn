{
 "cells": [
  {
   "cell_type": "code",
   "execution_count": 1,
   "id": "c42c4301-5ea5-46bb-8eb6-5d138d65b539",
   "metadata": {},
   "outputs": [],
   "source": [
    "import pandas as pd\n",
    "import numpy as np"
   ]
  },
  {
   "cell_type": "markdown",
   "id": "be790b4f-788a-4e72-9047-3ecbab0d012b",
   "metadata": {},
   "source": [
    "# 1.series（一维）\n",
    "## 1.1series的创建"
   ]
  },
  {
   "cell_type": "code",
   "execution_count": 2,
   "id": "474812b4-706b-492d-8803-b0c28d216213",
   "metadata": {},
   "outputs": [
    {
     "data": {
      "text/plain": [
       "array([0, 1, 2, 3, 4, 5, 6, 7, 8])"
      ]
     },
     "execution_count": 2,
     "metadata": {},
     "output_type": "execute_result"
    }
   ],
   "source": [
    "np.arange(9)"
   ]
  },
  {
   "cell_type": "code",
   "execution_count": 3,
   "id": "916189ab-be98-4d8e-8d30-f36f78225ec9",
   "metadata": {},
   "outputs": [
    {
     "data": {
      "text/plain": [
       "8    0\n",
       "7    1\n",
       "6    2\n",
       "5    3\n",
       "4    4\n",
       "3    5\n",
       "2    6\n",
       "1    7\n",
       "0    8\n",
       "dtype: int64"
      ]
     },
     "execution_count": 3,
     "metadata": {},
     "output_type": "execute_result"
    }
   ],
   "source": [
    "pd.Series(np.arange(9),index=[8,7,6,5,4,3,2,1,0])"
   ]
  },
  {
   "cell_type": "code",
   "execution_count": 4,
   "id": "39e59d60-09b2-4c7d-a6a0-a010b6aba864",
   "metadata": {},
   "outputs": [
    {
     "data": {
      "text/plain": [
       "1    1.2\n",
       "2    2.3\n",
       "3    4.5\n",
       "4    5.0\n",
       "dtype: float64"
      ]
     },
     "execution_count": 4,
     "metadata": {},
     "output_type": "execute_result"
    }
   ],
   "source": [
    "pd.Series([1.2,2.3,4.5,5.0],index=[1,2,3,4])"
   ]
  },
  {
   "cell_type": "code",
   "execution_count": 5,
   "id": "1dfaa790-32a1-411d-b55f-e7b565202db4",
   "metadata": {},
   "outputs": [
    {
     "data": {
      "text/plain": [
       "red       10\n",
       "green     20\n",
       "bule     100\n",
       "dtype: int64"
      ]
     },
     "execution_count": 5,
     "metadata": {},
     "output_type": "execute_result"
    }
   ],
   "source": [
    "color_count=pd.Series({'red':10,'green':20,'bule':100})\n",
    "color_count"
   ]
  },
  {
   "cell_type": "markdown",
   "id": "28660d33-6ff7-411e-837f-59346de5a7a1",
   "metadata": {},
   "source": [
    "## 1.2 series属性"
   ]
  },
  {
   "cell_type": "code",
   "execution_count": 6,
   "id": "25f9e7a2-9e4e-4a69-b822-2496db0d0212",
   "metadata": {},
   "outputs": [
    {
     "data": {
      "text/plain": [
       "Index(['red', 'green', 'bule'], dtype='object')"
      ]
     },
     "execution_count": 6,
     "metadata": {},
     "output_type": "execute_result"
    }
   ],
   "source": [
    "color_count.index"
   ]
  },
  {
   "cell_type": "code",
   "execution_count": 7,
   "id": "d98ee956-0fc3-48d2-ab82-69f3541dbd63",
   "metadata": {},
   "outputs": [
    {
     "data": {
      "text/plain": [
       "array([ 10,  20, 100])"
      ]
     },
     "execution_count": 7,
     "metadata": {},
     "output_type": "execute_result"
    }
   ],
   "source": [
    "color_count.values"
   ]
  },
  {
   "cell_type": "code",
   "execution_count": 8,
   "id": "c9c9090f-5324-491d-a281-4a730e4c2015",
   "metadata": {},
   "outputs": [
    {
     "data": {
      "text/plain": [
       "10"
      ]
     },
     "execution_count": 8,
     "metadata": {},
     "output_type": "execute_result"
    }
   ],
   "source": [
    "color_count['red']"
   ]
  },
  {
   "cell_type": "markdown",
   "id": "1922a086-98a5-4a62-90eb-eedaf3acfc21",
   "metadata": {},
   "source": [
    "# 2 dataframe（二维）\n",
    "## 2.1 dataframe创建"
   ]
  },
  {
   "cell_type": "code",
   "execution_count": 9,
   "id": "6fc7ab93-a731-41d1-b08d-fe9b14ff53dc",
   "metadata": {},
   "outputs": [
    {
     "data": {
      "text/html": [
       "<div>\n",
       "<style scoped>\n",
       "    .dataframe tbody tr th:only-of-type {\n",
       "        vertical-align: middle;\n",
       "    }\n",
       "\n",
       "    .dataframe tbody tr th {\n",
       "        vertical-align: top;\n",
       "    }\n",
       "\n",
       "    .dataframe thead th {\n",
       "        text-align: right;\n",
       "    }\n",
       "</style>\n",
       "<table border=\"1\" class=\"dataframe\">\n",
       "  <thead>\n",
       "    <tr style=\"text-align: right;\">\n",
       "      <th></th>\n",
       "      <th>0</th>\n",
       "      <th>1</th>\n",
       "      <th>2</th>\n",
       "    </tr>\n",
       "  </thead>\n",
       "  <tbody>\n",
       "    <tr>\n",
       "      <th>0</th>\n",
       "      <td>-0.109588</td>\n",
       "      <td>-0.326362</td>\n",
       "      <td>1.550445</td>\n",
       "    </tr>\n",
       "    <tr>\n",
       "      <th>1</th>\n",
       "      <td>0.433956</td>\n",
       "      <td>-0.675716</td>\n",
       "      <td>0.849308</td>\n",
       "    </tr>\n",
       "  </tbody>\n",
       "</table>\n",
       "</div>"
      ],
      "text/plain": [
       "          0         1         2\n",
       "0 -0.109588 -0.326362  1.550445\n",
       "1  0.433956 -0.675716  0.849308"
      ]
     },
     "execution_count": 9,
     "metadata": {},
     "output_type": "execute_result"
    }
   ],
   "source": [
    "pd.DataFrame(np.random.randn(2,3))#randn表示从标准正态中取数字"
   ]
  },
  {
   "cell_type": "code",
   "execution_count": 10,
   "id": "1c7164a8-4cee-4abe-bd7a-8a1ae4fce6e5",
   "metadata": {},
   "outputs": [
    {
     "data": {
      "text/plain": [
       "array([[45, 64, 71, 62, 68],\n",
       "       [44, 61, 93, 45, 59],\n",
       "       [41, 61, 64, 48, 78],\n",
       "       [51, 48, 94, 91, 61],\n",
       "       [54, 67, 87, 62, 95],\n",
       "       [66, 66, 62, 67, 69],\n",
       "       [85, 64, 45, 51, 42],\n",
       "       [82, 73, 92, 94, 59],\n",
       "       [72, 81, 44, 82, 45],\n",
       "       [67, 64, 92, 57, 51]])"
      ]
     },
     "execution_count": 10,
     "metadata": {},
     "output_type": "execute_result"
    }
   ],
   "source": [
    "score = np.random.randint(40,100,[10,5])\n",
    "score"
   ]
  },
  {
   "cell_type": "code",
   "execution_count": 11,
   "id": "4f9eb900-c7ea-4341-8883-022b16127d75",
   "metadata": {},
   "outputs": [
    {
     "data": {
      "text/html": [
       "<div>\n",
       "<style scoped>\n",
       "    .dataframe tbody tr th:only-of-type {\n",
       "        vertical-align: middle;\n",
       "    }\n",
       "\n",
       "    .dataframe tbody tr th {\n",
       "        vertical-align: top;\n",
       "    }\n",
       "\n",
       "    .dataframe thead th {\n",
       "        text-align: right;\n",
       "    }\n",
       "</style>\n",
       "<table border=\"1\" class=\"dataframe\">\n",
       "  <thead>\n",
       "    <tr style=\"text-align: right;\">\n",
       "      <th></th>\n",
       "      <th>0</th>\n",
       "      <th>1</th>\n",
       "      <th>2</th>\n",
       "      <th>3</th>\n",
       "      <th>4</th>\n",
       "    </tr>\n",
       "  </thead>\n",
       "  <tbody>\n",
       "    <tr>\n",
       "      <th>0</th>\n",
       "      <td>45</td>\n",
       "      <td>64</td>\n",
       "      <td>71</td>\n",
       "      <td>62</td>\n",
       "      <td>68</td>\n",
       "    </tr>\n",
       "    <tr>\n",
       "      <th>1</th>\n",
       "      <td>44</td>\n",
       "      <td>61</td>\n",
       "      <td>93</td>\n",
       "      <td>45</td>\n",
       "      <td>59</td>\n",
       "    </tr>\n",
       "    <tr>\n",
       "      <th>2</th>\n",
       "      <td>41</td>\n",
       "      <td>61</td>\n",
       "      <td>64</td>\n",
       "      <td>48</td>\n",
       "      <td>78</td>\n",
       "    </tr>\n",
       "    <tr>\n",
       "      <th>3</th>\n",
       "      <td>51</td>\n",
       "      <td>48</td>\n",
       "      <td>94</td>\n",
       "      <td>91</td>\n",
       "      <td>61</td>\n",
       "    </tr>\n",
       "    <tr>\n",
       "      <th>4</th>\n",
       "      <td>54</td>\n",
       "      <td>67</td>\n",
       "      <td>87</td>\n",
       "      <td>62</td>\n",
       "      <td>95</td>\n",
       "    </tr>\n",
       "    <tr>\n",
       "      <th>5</th>\n",
       "      <td>66</td>\n",
       "      <td>66</td>\n",
       "      <td>62</td>\n",
       "      <td>67</td>\n",
       "      <td>69</td>\n",
       "    </tr>\n",
       "    <tr>\n",
       "      <th>6</th>\n",
       "      <td>85</td>\n",
       "      <td>64</td>\n",
       "      <td>45</td>\n",
       "      <td>51</td>\n",
       "      <td>42</td>\n",
       "    </tr>\n",
       "    <tr>\n",
       "      <th>7</th>\n",
       "      <td>82</td>\n",
       "      <td>73</td>\n",
       "      <td>92</td>\n",
       "      <td>94</td>\n",
       "      <td>59</td>\n",
       "    </tr>\n",
       "    <tr>\n",
       "      <th>8</th>\n",
       "      <td>72</td>\n",
       "      <td>81</td>\n",
       "      <td>44</td>\n",
       "      <td>82</td>\n",
       "      <td>45</td>\n",
       "    </tr>\n",
       "    <tr>\n",
       "      <th>9</th>\n",
       "      <td>67</td>\n",
       "      <td>64</td>\n",
       "      <td>92</td>\n",
       "      <td>57</td>\n",
       "      <td>51</td>\n",
       "    </tr>\n",
       "  </tbody>\n",
       "</table>\n",
       "</div>"
      ],
      "text/plain": [
       "    0   1   2   3   4\n",
       "0  45  64  71  62  68\n",
       "1  44  61  93  45  59\n",
       "2  41  61  64  48  78\n",
       "3  51  48  94  91  61\n",
       "4  54  67  87  62  95\n",
       "5  66  66  62  67  69\n",
       "6  85  64  45  51  42\n",
       "7  82  73  92  94  59\n",
       "8  72  81  44  82  45\n",
       "9  67  64  92  57  51"
      ]
     },
     "execution_count": 11,
     "metadata": {},
     "output_type": "execute_result"
    }
   ],
   "source": [
    "score_df = pd.DataFrame(score)\n",
    "score_df"
   ]
  },
  {
   "cell_type": "code",
   "execution_count": 12,
   "id": "826b260c-5245-4b12-94b9-2304e3f01e64",
   "metadata": {},
   "outputs": [
    {
     "data": {
      "text/plain": [
       "(10, 5)"
      ]
     },
     "execution_count": 12,
     "metadata": {},
     "output_type": "execute_result"
    }
   ],
   "source": [
    "score_df.shape"
   ]
  },
  {
   "cell_type": "code",
   "execution_count": 13,
   "id": "2d17e7c0-0bf4-4ed1-8444-228d8ba78e87",
   "metadata": {},
   "outputs": [],
   "source": [
    "subjects = ['语文','数学','英语','政治','体育']\n",
    "stu = ['同学{}'.format(i) for i in range(score_df.shape[0])]#注意for i in range的灵活使用方法"
   ]
  },
  {
   "cell_type": "code",
   "execution_count": 14,
   "id": "ef3bd156-2ba3-4a98-b864-34260037b095",
   "metadata": {},
   "outputs": [
    {
     "data": {
      "text/plain": [
       "['同学0', '同学1', '同学2', '同学3', '同学4', '同学5', '同学6', '同学7', '同学8', '同学9']"
      ]
     },
     "execution_count": 14,
     "metadata": {},
     "output_type": "execute_result"
    }
   ],
   "source": [
    "stu"
   ]
  },
  {
   "cell_type": "code",
   "execution_count": 15,
   "id": "28b0ea0b-a190-429b-b0c8-6085c6c2d3df",
   "metadata": {},
   "outputs": [],
   "source": [
    "data = pd.DataFrame(score,columns = subjects,index = stu)#增加目录"
   ]
  },
  {
   "cell_type": "code",
   "execution_count": 16,
   "id": "70c66515-6984-4cfb-a602-44cf6a7a3be3",
   "metadata": {},
   "outputs": [
    {
     "data": {
      "text/html": [
       "<div>\n",
       "<style scoped>\n",
       "    .dataframe tbody tr th:only-of-type {\n",
       "        vertical-align: middle;\n",
       "    }\n",
       "\n",
       "    .dataframe tbody tr th {\n",
       "        vertical-align: top;\n",
       "    }\n",
       "\n",
       "    .dataframe thead th {\n",
       "        text-align: right;\n",
       "    }\n",
       "</style>\n",
       "<table border=\"1\" class=\"dataframe\">\n",
       "  <thead>\n",
       "    <tr style=\"text-align: right;\">\n",
       "      <th></th>\n",
       "      <th>语文</th>\n",
       "      <th>数学</th>\n",
       "      <th>英语</th>\n",
       "      <th>政治</th>\n",
       "      <th>体育</th>\n",
       "    </tr>\n",
       "  </thead>\n",
       "  <tbody>\n",
       "    <tr>\n",
       "      <th>同学0</th>\n",
       "      <td>45</td>\n",
       "      <td>64</td>\n",
       "      <td>71</td>\n",
       "      <td>62</td>\n",
       "      <td>68</td>\n",
       "    </tr>\n",
       "    <tr>\n",
       "      <th>同学1</th>\n",
       "      <td>44</td>\n",
       "      <td>61</td>\n",
       "      <td>93</td>\n",
       "      <td>45</td>\n",
       "      <td>59</td>\n",
       "    </tr>\n",
       "    <tr>\n",
       "      <th>同学2</th>\n",
       "      <td>41</td>\n",
       "      <td>61</td>\n",
       "      <td>64</td>\n",
       "      <td>48</td>\n",
       "      <td>78</td>\n",
       "    </tr>\n",
       "    <tr>\n",
       "      <th>同学3</th>\n",
       "      <td>51</td>\n",
       "      <td>48</td>\n",
       "      <td>94</td>\n",
       "      <td>91</td>\n",
       "      <td>61</td>\n",
       "    </tr>\n",
       "    <tr>\n",
       "      <th>同学4</th>\n",
       "      <td>54</td>\n",
       "      <td>67</td>\n",
       "      <td>87</td>\n",
       "      <td>62</td>\n",
       "      <td>95</td>\n",
       "    </tr>\n",
       "    <tr>\n",
       "      <th>同学5</th>\n",
       "      <td>66</td>\n",
       "      <td>66</td>\n",
       "      <td>62</td>\n",
       "      <td>67</td>\n",
       "      <td>69</td>\n",
       "    </tr>\n",
       "    <tr>\n",
       "      <th>同学6</th>\n",
       "      <td>85</td>\n",
       "      <td>64</td>\n",
       "      <td>45</td>\n",
       "      <td>51</td>\n",
       "      <td>42</td>\n",
       "    </tr>\n",
       "    <tr>\n",
       "      <th>同学7</th>\n",
       "      <td>82</td>\n",
       "      <td>73</td>\n",
       "      <td>92</td>\n",
       "      <td>94</td>\n",
       "      <td>59</td>\n",
       "    </tr>\n",
       "    <tr>\n",
       "      <th>同学8</th>\n",
       "      <td>72</td>\n",
       "      <td>81</td>\n",
       "      <td>44</td>\n",
       "      <td>82</td>\n",
       "      <td>45</td>\n",
       "    </tr>\n",
       "    <tr>\n",
       "      <th>同学9</th>\n",
       "      <td>67</td>\n",
       "      <td>64</td>\n",
       "      <td>92</td>\n",
       "      <td>57</td>\n",
       "      <td>51</td>\n",
       "    </tr>\n",
       "  </tbody>\n",
       "</table>\n",
       "</div>"
      ],
      "text/plain": [
       "     语文  数学  英语  政治  体育\n",
       "同学0  45  64  71  62  68\n",
       "同学1  44  61  93  45  59\n",
       "同学2  41  61  64  48  78\n",
       "同学3  51  48  94  91  61\n",
       "同学4  54  67  87  62  95\n",
       "同学5  66  66  62  67  69\n",
       "同学6  85  64  45  51  42\n",
       "同学7  82  73  92  94  59\n",
       "同学8  72  81  44  82  45\n",
       "同学9  67  64  92  57  51"
      ]
     },
     "execution_count": 16,
     "metadata": {},
     "output_type": "execute_result"
    }
   ],
   "source": [
    "data"
   ]
  },
  {
   "cell_type": "markdown",
   "id": "ed12989b-be64-46c6-8a84-bc03e3eafeba",
   "metadata": {},
   "source": [
    "## 2.2 dataframe属性"
   ]
  },
  {
   "cell_type": "code",
   "execution_count": 17,
   "id": "4d873b8a-453d-4f42-b967-e40aaf94c97e",
   "metadata": {},
   "outputs": [
    {
     "data": {
      "text/plain": [
       "(10, 5)"
      ]
     },
     "execution_count": 17,
     "metadata": {},
     "output_type": "execute_result"
    }
   ],
   "source": [
    "data.shape"
   ]
  },
  {
   "cell_type": "code",
   "execution_count": 18,
   "id": "834966c2-4929-4daa-b955-63aaeb473426",
   "metadata": {},
   "outputs": [
    {
     "data": {
      "text/plain": [
       "Index(['同学0', '同学1', '同学2', '同学3', '同学4', '同学5', '同学6', '同学7', '同学8', '同学9'], dtype='object')"
      ]
     },
     "execution_count": 18,
     "metadata": {},
     "output_type": "execute_result"
    }
   ],
   "source": [
    "data.index"
   ]
  },
  {
   "cell_type": "code",
   "execution_count": 19,
   "id": "624a834b-ca29-427c-aab1-da73a49113a5",
   "metadata": {},
   "outputs": [
    {
     "data": {
      "text/plain": [
       "Index(['语文', '数学', '英语', '政治', '体育'], dtype='object')"
      ]
     },
     "execution_count": 19,
     "metadata": {},
     "output_type": "execute_result"
    }
   ],
   "source": [
    "data.columns"
   ]
  },
  {
   "cell_type": "code",
   "execution_count": 20,
   "id": "e192bd9f-4ff3-4531-ba0d-c3e020b6dba7",
   "metadata": {},
   "outputs": [
    {
     "data": {
      "text/plain": [
       "array([[45, 64, 71, 62, 68],\n",
       "       [44, 61, 93, 45, 59],\n",
       "       [41, 61, 64, 48, 78],\n",
       "       [51, 48, 94, 91, 61],\n",
       "       [54, 67, 87, 62, 95],\n",
       "       [66, 66, 62, 67, 69],\n",
       "       [85, 64, 45, 51, 42],\n",
       "       [82, 73, 92, 94, 59],\n",
       "       [72, 81, 44, 82, 45],\n",
       "       [67, 64, 92, 57, 51]])"
      ]
     },
     "execution_count": 20,
     "metadata": {},
     "output_type": "execute_result"
    }
   ],
   "source": [
    "data.values"
   ]
  },
  {
   "cell_type": "code",
   "execution_count": 21,
   "id": "afdc6f4b-c8b3-4b99-af83-09d961867e8b",
   "metadata": {},
   "outputs": [
    {
     "data": {
      "text/html": [
       "<div>\n",
       "<style scoped>\n",
       "    .dataframe tbody tr th:only-of-type {\n",
       "        vertical-align: middle;\n",
       "    }\n",
       "\n",
       "    .dataframe tbody tr th {\n",
       "        vertical-align: top;\n",
       "    }\n",
       "\n",
       "    .dataframe thead th {\n",
       "        text-align: right;\n",
       "    }\n",
       "</style>\n",
       "<table border=\"1\" class=\"dataframe\">\n",
       "  <thead>\n",
       "    <tr style=\"text-align: right;\">\n",
       "      <th></th>\n",
       "      <th>同学0</th>\n",
       "      <th>同学1</th>\n",
       "      <th>同学2</th>\n",
       "      <th>同学3</th>\n",
       "      <th>同学4</th>\n",
       "      <th>同学5</th>\n",
       "      <th>同学6</th>\n",
       "      <th>同学7</th>\n",
       "      <th>同学8</th>\n",
       "      <th>同学9</th>\n",
       "    </tr>\n",
       "  </thead>\n",
       "  <tbody>\n",
       "    <tr>\n",
       "      <th>语文</th>\n",
       "      <td>45</td>\n",
       "      <td>44</td>\n",
       "      <td>41</td>\n",
       "      <td>51</td>\n",
       "      <td>54</td>\n",
       "      <td>66</td>\n",
       "      <td>85</td>\n",
       "      <td>82</td>\n",
       "      <td>72</td>\n",
       "      <td>67</td>\n",
       "    </tr>\n",
       "    <tr>\n",
       "      <th>数学</th>\n",
       "      <td>64</td>\n",
       "      <td>61</td>\n",
       "      <td>61</td>\n",
       "      <td>48</td>\n",
       "      <td>67</td>\n",
       "      <td>66</td>\n",
       "      <td>64</td>\n",
       "      <td>73</td>\n",
       "      <td>81</td>\n",
       "      <td>64</td>\n",
       "    </tr>\n",
       "    <tr>\n",
       "      <th>英语</th>\n",
       "      <td>71</td>\n",
       "      <td>93</td>\n",
       "      <td>64</td>\n",
       "      <td>94</td>\n",
       "      <td>87</td>\n",
       "      <td>62</td>\n",
       "      <td>45</td>\n",
       "      <td>92</td>\n",
       "      <td>44</td>\n",
       "      <td>92</td>\n",
       "    </tr>\n",
       "    <tr>\n",
       "      <th>政治</th>\n",
       "      <td>62</td>\n",
       "      <td>45</td>\n",
       "      <td>48</td>\n",
       "      <td>91</td>\n",
       "      <td>62</td>\n",
       "      <td>67</td>\n",
       "      <td>51</td>\n",
       "      <td>94</td>\n",
       "      <td>82</td>\n",
       "      <td>57</td>\n",
       "    </tr>\n",
       "    <tr>\n",
       "      <th>体育</th>\n",
       "      <td>68</td>\n",
       "      <td>59</td>\n",
       "      <td>78</td>\n",
       "      <td>61</td>\n",
       "      <td>95</td>\n",
       "      <td>69</td>\n",
       "      <td>42</td>\n",
       "      <td>59</td>\n",
       "      <td>45</td>\n",
       "      <td>51</td>\n",
       "    </tr>\n",
       "  </tbody>\n",
       "</table>\n",
       "</div>"
      ],
      "text/plain": [
       "    同学0  同学1  同学2  同学3  同学4  同学5  同学6  同学7  同学8  同学9\n",
       "语文   45   44   41   51   54   66   85   82   72   67\n",
       "数学   64   61   61   48   67   66   64   73   81   64\n",
       "英语   71   93   64   94   87   62   45   92   44   92\n",
       "政治   62   45   48   91   62   67   51   94   82   57\n",
       "体育   68   59   78   61   95   69   42   59   45   51"
      ]
     },
     "execution_count": 21,
     "metadata": {},
     "output_type": "execute_result"
    }
   ],
   "source": [
    "data.T"
   ]
  },
  {
   "cell_type": "code",
   "execution_count": 22,
   "id": "31da4951-220f-42a4-ba0a-0850f25f16a7",
   "metadata": {},
   "outputs": [
    {
     "data": {
      "text/html": [
       "<div>\n",
       "<style scoped>\n",
       "    .dataframe tbody tr th:only-of-type {\n",
       "        vertical-align: middle;\n",
       "    }\n",
       "\n",
       "    .dataframe tbody tr th {\n",
       "        vertical-align: top;\n",
       "    }\n",
       "\n",
       "    .dataframe thead th {\n",
       "        text-align: right;\n",
       "    }\n",
       "</style>\n",
       "<table border=\"1\" class=\"dataframe\">\n",
       "  <thead>\n",
       "    <tr style=\"text-align: right;\">\n",
       "      <th></th>\n",
       "      <th>语文</th>\n",
       "      <th>数学</th>\n",
       "      <th>英语</th>\n",
       "      <th>政治</th>\n",
       "      <th>体育</th>\n",
       "    </tr>\n",
       "  </thead>\n",
       "  <tbody>\n",
       "    <tr>\n",
       "      <th>同学0</th>\n",
       "      <td>45</td>\n",
       "      <td>64</td>\n",
       "      <td>71</td>\n",
       "      <td>62</td>\n",
       "      <td>68</td>\n",
       "    </tr>\n",
       "    <tr>\n",
       "      <th>同学1</th>\n",
       "      <td>44</td>\n",
       "      <td>61</td>\n",
       "      <td>93</td>\n",
       "      <td>45</td>\n",
       "      <td>59</td>\n",
       "    </tr>\n",
       "    <tr>\n",
       "      <th>同学2</th>\n",
       "      <td>41</td>\n",
       "      <td>61</td>\n",
       "      <td>64</td>\n",
       "      <td>48</td>\n",
       "      <td>78</td>\n",
       "    </tr>\n",
       "    <tr>\n",
       "      <th>同学3</th>\n",
       "      <td>51</td>\n",
       "      <td>48</td>\n",
       "      <td>94</td>\n",
       "      <td>91</td>\n",
       "      <td>61</td>\n",
       "    </tr>\n",
       "    <tr>\n",
       "      <th>同学4</th>\n",
       "      <td>54</td>\n",
       "      <td>67</td>\n",
       "      <td>87</td>\n",
       "      <td>62</td>\n",
       "      <td>95</td>\n",
       "    </tr>\n",
       "  </tbody>\n",
       "</table>\n",
       "</div>"
      ],
      "text/plain": [
       "     语文  数学  英语  政治  体育\n",
       "同学0  45  64  71  62  68\n",
       "同学1  44  61  93  45  59\n",
       "同学2  41  61  64  48  78\n",
       "同学3  51  48  94  91  61\n",
       "同学4  54  67  87  62  95"
      ]
     },
     "execution_count": 22,
     "metadata": {},
     "output_type": "execute_result"
    }
   ],
   "source": [
    "data.head(5)#获取前5行数据"
   ]
  },
  {
   "cell_type": "code",
   "execution_count": 23,
   "id": "aee64167-6cd4-4390-8b8d-97062232a95d",
   "metadata": {},
   "outputs": [
    {
     "data": {
      "text/html": [
       "<div>\n",
       "<style scoped>\n",
       "    .dataframe tbody tr th:only-of-type {\n",
       "        vertical-align: middle;\n",
       "    }\n",
       "\n",
       "    .dataframe tbody tr th {\n",
       "        vertical-align: top;\n",
       "    }\n",
       "\n",
       "    .dataframe thead th {\n",
       "        text-align: right;\n",
       "    }\n",
       "</style>\n",
       "<table border=\"1\" class=\"dataframe\">\n",
       "  <thead>\n",
       "    <tr style=\"text-align: right;\">\n",
       "      <th></th>\n",
       "      <th>语文</th>\n",
       "      <th>数学</th>\n",
       "      <th>英语</th>\n",
       "      <th>政治</th>\n",
       "      <th>体育</th>\n",
       "    </tr>\n",
       "  </thead>\n",
       "  <tbody>\n",
       "    <tr>\n",
       "      <th>同学5</th>\n",
       "      <td>66</td>\n",
       "      <td>66</td>\n",
       "      <td>62</td>\n",
       "      <td>67</td>\n",
       "      <td>69</td>\n",
       "    </tr>\n",
       "    <tr>\n",
       "      <th>同学6</th>\n",
       "      <td>85</td>\n",
       "      <td>64</td>\n",
       "      <td>45</td>\n",
       "      <td>51</td>\n",
       "      <td>42</td>\n",
       "    </tr>\n",
       "    <tr>\n",
       "      <th>同学7</th>\n",
       "      <td>82</td>\n",
       "      <td>73</td>\n",
       "      <td>92</td>\n",
       "      <td>94</td>\n",
       "      <td>59</td>\n",
       "    </tr>\n",
       "    <tr>\n",
       "      <th>同学8</th>\n",
       "      <td>72</td>\n",
       "      <td>81</td>\n",
       "      <td>44</td>\n",
       "      <td>82</td>\n",
       "      <td>45</td>\n",
       "    </tr>\n",
       "    <tr>\n",
       "      <th>同学9</th>\n",
       "      <td>67</td>\n",
       "      <td>64</td>\n",
       "      <td>92</td>\n",
       "      <td>57</td>\n",
       "      <td>51</td>\n",
       "    </tr>\n",
       "  </tbody>\n",
       "</table>\n",
       "</div>"
      ],
      "text/plain": [
       "     语文  数学  英语  政治  体育\n",
       "同学5  66  66  62  67  69\n",
       "同学6  85  64  45  51  42\n",
       "同学7  82  73  92  94  59\n",
       "同学8  72  81  44  82  45\n",
       "同学9  67  64  92  57  51"
      ]
     },
     "execution_count": 23,
     "metadata": {},
     "output_type": "execute_result"
    }
   ],
   "source": [
    "data.tail(5)#获取后5行数据"
   ]
  },
  {
   "cell_type": "markdown",
   "id": "4c2a084d-ced9-4738-96ea-4268b8b08f63",
   "metadata": {},
   "source": [
    "## 2.3 索引值的设置"
   ]
  },
  {
   "cell_type": "code",
   "execution_count": 24,
   "id": "3f5f0025-d9f1-43c3-beb6-600365c49436",
   "metadata": {},
   "outputs": [],
   "source": [
    "stu = ['同学_{}'.format(i) for i in range(score_df.shape[0])]#不能用index【3】这种方式单独修改，只能总体修改"
   ]
  },
  {
   "cell_type": "code",
   "execution_count": 25,
   "id": "53ac11fa-e87a-4c80-9889-e33d8113d495",
   "metadata": {},
   "outputs": [],
   "source": [
    "data.index = stu"
   ]
  },
  {
   "cell_type": "code",
   "execution_count": 26,
   "id": "f4f859d9-54ed-496a-befa-ff95cacfd08d",
   "metadata": {},
   "outputs": [
    {
     "data": {
      "text/html": [
       "<div>\n",
       "<style scoped>\n",
       "    .dataframe tbody tr th:only-of-type {\n",
       "        vertical-align: middle;\n",
       "    }\n",
       "\n",
       "    .dataframe tbody tr th {\n",
       "        vertical-align: top;\n",
       "    }\n",
       "\n",
       "    .dataframe thead th {\n",
       "        text-align: right;\n",
       "    }\n",
       "</style>\n",
       "<table border=\"1\" class=\"dataframe\">\n",
       "  <thead>\n",
       "    <tr style=\"text-align: right;\">\n",
       "      <th></th>\n",
       "      <th>语文</th>\n",
       "      <th>数学</th>\n",
       "      <th>英语</th>\n",
       "      <th>政治</th>\n",
       "      <th>体育</th>\n",
       "    </tr>\n",
       "  </thead>\n",
       "  <tbody>\n",
       "    <tr>\n",
       "      <th>同学_0</th>\n",
       "      <td>45</td>\n",
       "      <td>64</td>\n",
       "      <td>71</td>\n",
       "      <td>62</td>\n",
       "      <td>68</td>\n",
       "    </tr>\n",
       "    <tr>\n",
       "      <th>同学_1</th>\n",
       "      <td>44</td>\n",
       "      <td>61</td>\n",
       "      <td>93</td>\n",
       "      <td>45</td>\n",
       "      <td>59</td>\n",
       "    </tr>\n",
       "    <tr>\n",
       "      <th>同学_2</th>\n",
       "      <td>41</td>\n",
       "      <td>61</td>\n",
       "      <td>64</td>\n",
       "      <td>48</td>\n",
       "      <td>78</td>\n",
       "    </tr>\n",
       "    <tr>\n",
       "      <th>同学_3</th>\n",
       "      <td>51</td>\n",
       "      <td>48</td>\n",
       "      <td>94</td>\n",
       "      <td>91</td>\n",
       "      <td>61</td>\n",
       "    </tr>\n",
       "    <tr>\n",
       "      <th>同学_4</th>\n",
       "      <td>54</td>\n",
       "      <td>67</td>\n",
       "      <td>87</td>\n",
       "      <td>62</td>\n",
       "      <td>95</td>\n",
       "    </tr>\n",
       "    <tr>\n",
       "      <th>同学_5</th>\n",
       "      <td>66</td>\n",
       "      <td>66</td>\n",
       "      <td>62</td>\n",
       "      <td>67</td>\n",
       "      <td>69</td>\n",
       "    </tr>\n",
       "    <tr>\n",
       "      <th>同学_6</th>\n",
       "      <td>85</td>\n",
       "      <td>64</td>\n",
       "      <td>45</td>\n",
       "      <td>51</td>\n",
       "      <td>42</td>\n",
       "    </tr>\n",
       "    <tr>\n",
       "      <th>同学_7</th>\n",
       "      <td>82</td>\n",
       "      <td>73</td>\n",
       "      <td>92</td>\n",
       "      <td>94</td>\n",
       "      <td>59</td>\n",
       "    </tr>\n",
       "    <tr>\n",
       "      <th>同学_8</th>\n",
       "      <td>72</td>\n",
       "      <td>81</td>\n",
       "      <td>44</td>\n",
       "      <td>82</td>\n",
       "      <td>45</td>\n",
       "    </tr>\n",
       "    <tr>\n",
       "      <th>同学_9</th>\n",
       "      <td>67</td>\n",
       "      <td>64</td>\n",
       "      <td>92</td>\n",
       "      <td>57</td>\n",
       "      <td>51</td>\n",
       "    </tr>\n",
       "  </tbody>\n",
       "</table>\n",
       "</div>"
      ],
      "text/plain": [
       "      语文  数学  英语  政治  体育\n",
       "同学_0  45  64  71  62  68\n",
       "同学_1  44  61  93  45  59\n",
       "同学_2  41  61  64  48  78\n",
       "同学_3  51  48  94  91  61\n",
       "同学_4  54  67  87  62  95\n",
       "同学_5  66  66  62  67  69\n",
       "同学_6  85  64  45  51  42\n",
       "同学_7  82  73  92  94  59\n",
       "同学_8  72  81  44  82  45\n",
       "同学_9  67  64  92  57  51"
      ]
     },
     "execution_count": 26,
     "metadata": {},
     "output_type": "execute_result"
    }
   ],
   "source": [
    "data"
   ]
  },
  {
   "cell_type": "code",
   "execution_count": 27,
   "id": "9841552e-c9fb-4400-88fc-35ac5c7a73ec",
   "metadata": {},
   "outputs": [
    {
     "ename": "TypeError",
     "evalue": "Index does not support mutable operations",
     "output_type": "error",
     "traceback": [
      "\u001b[0;31m---------------------------------------------------------------------------\u001b[0m",
      "\u001b[0;31mTypeError\u001b[0m                                 Traceback (most recent call last)",
      "\u001b[0;32m/tmp/ipykernel_2979/2214425914.py\u001b[0m in \u001b[0;36m<module>\u001b[0;34m\u001b[0m\n\u001b[0;32m----> 1\u001b[0;31m \u001b[0mdata\u001b[0m\u001b[0;34m.\u001b[0m\u001b[0mindex\u001b[0m\u001b[0;34m[\u001b[0m\u001b[0;36m2\u001b[0m\u001b[0;34m]\u001b[0m \u001b[0;34m=\u001b[0m \u001b[0;34m'同学_3'\u001b[0m\u001b[0;31m#不能这样单独修改\u001b[0m\u001b[0;34m\u001b[0m\u001b[0;34m\u001b[0m\u001b[0m\n\u001b[0m",
      "\u001b[0;32m~/.virtualenvs/ai/lib/python3.8/site-packages/pandas/core/indexes/base.py\u001b[0m in \u001b[0;36m__setitem__\u001b[0;34m(self, key, value)\u001b[0m\n\u001b[1;32m   4583\u001b[0m     \u001b[0;34m@\u001b[0m\u001b[0mfinal\u001b[0m\u001b[0;34m\u001b[0m\u001b[0;34m\u001b[0m\u001b[0m\n\u001b[1;32m   4584\u001b[0m     \u001b[0;32mdef\u001b[0m \u001b[0m__setitem__\u001b[0m\u001b[0;34m(\u001b[0m\u001b[0mself\u001b[0m\u001b[0;34m,\u001b[0m \u001b[0mkey\u001b[0m\u001b[0;34m,\u001b[0m \u001b[0mvalue\u001b[0m\u001b[0;34m)\u001b[0m\u001b[0;34m:\u001b[0m\u001b[0;34m\u001b[0m\u001b[0;34m\u001b[0m\u001b[0m\n\u001b[0;32m-> 4585\u001b[0;31m         \u001b[0;32mraise\u001b[0m \u001b[0mTypeError\u001b[0m\u001b[0;34m(\u001b[0m\u001b[0;34m\"Index does not support mutable operations\"\u001b[0m\u001b[0;34m)\u001b[0m\u001b[0;34m\u001b[0m\u001b[0;34m\u001b[0m\u001b[0m\n\u001b[0m\u001b[1;32m   4586\u001b[0m \u001b[0;34m\u001b[0m\u001b[0m\n\u001b[1;32m   4587\u001b[0m     \u001b[0;32mdef\u001b[0m \u001b[0m__getitem__\u001b[0m\u001b[0;34m(\u001b[0m\u001b[0mself\u001b[0m\u001b[0;34m,\u001b[0m \u001b[0mkey\u001b[0m\u001b[0;34m)\u001b[0m\u001b[0;34m:\u001b[0m\u001b[0;34m\u001b[0m\u001b[0;34m\u001b[0m\u001b[0m\n",
      "\u001b[0;31mTypeError\u001b[0m: Index does not support mutable operations"
     ]
    }
   ],
   "source": [
    "data.index[2] = '同学_3'#不能这样单独修改"
   ]
  },
  {
   "cell_type": "code",
   "execution_count": 28,
   "id": "f10b7aa1-be70-4536-8c32-24a5b22da3cd",
   "metadata": {},
   "outputs": [
    {
     "name": "stdout",
     "output_type": "stream",
     "text": [
      "  index  语文  数学  英语  政治  体育\n",
      "0  同学_0  45  64  71  62  68\n",
      "1  同学_1  44  61  93  45  59\n",
      "2  同学_2  41  61  64  48  78\n",
      "3  同学_3  51  48  94  91  61\n",
      "4  同学_4  54  67  87  62  95\n",
      "5  同学_5  66  66  62  67  69\n",
      "6  同学_6  85  64  45  51  42\n",
      "7  同学_7  82  73  92  94  59\n",
      "8  同学_8  72  81  44  82  45\n",
      "9  同学_9  67  64  92  57  51 \n",
      " (10, 6)\n"
     ]
    }
   ],
   "source": [
    "new = data.reset_index()#不删除之前的索引\n",
    "new_shape = data.reset_index().shape\n",
    "print(new,'\\n',new_shape)"
   ]
  },
  {
   "cell_type": "code",
   "execution_count": 29,
   "id": "7038e53f-9cf2-4852-9524-c0e4f6c864c1",
   "metadata": {},
   "outputs": [
    {
     "data": {
      "text/html": [
       "<div>\n",
       "<style scoped>\n",
       "    .dataframe tbody tr th:only-of-type {\n",
       "        vertical-align: middle;\n",
       "    }\n",
       "\n",
       "    .dataframe tbody tr th {\n",
       "        vertical-align: top;\n",
       "    }\n",
       "\n",
       "    .dataframe thead th {\n",
       "        text-align: right;\n",
       "    }\n",
       "</style>\n",
       "<table border=\"1\" class=\"dataframe\">\n",
       "  <thead>\n",
       "    <tr style=\"text-align: right;\">\n",
       "      <th></th>\n",
       "      <th>语文</th>\n",
       "      <th>数学</th>\n",
       "      <th>英语</th>\n",
       "      <th>政治</th>\n",
       "      <th>体育</th>\n",
       "    </tr>\n",
       "  </thead>\n",
       "  <tbody>\n",
       "    <tr>\n",
       "      <th>0</th>\n",
       "      <td>45</td>\n",
       "      <td>64</td>\n",
       "      <td>71</td>\n",
       "      <td>62</td>\n",
       "      <td>68</td>\n",
       "    </tr>\n",
       "    <tr>\n",
       "      <th>1</th>\n",
       "      <td>44</td>\n",
       "      <td>61</td>\n",
       "      <td>93</td>\n",
       "      <td>45</td>\n",
       "      <td>59</td>\n",
       "    </tr>\n",
       "    <tr>\n",
       "      <th>2</th>\n",
       "      <td>41</td>\n",
       "      <td>61</td>\n",
       "      <td>64</td>\n",
       "      <td>48</td>\n",
       "      <td>78</td>\n",
       "    </tr>\n",
       "    <tr>\n",
       "      <th>3</th>\n",
       "      <td>51</td>\n",
       "      <td>48</td>\n",
       "      <td>94</td>\n",
       "      <td>91</td>\n",
       "      <td>61</td>\n",
       "    </tr>\n",
       "    <tr>\n",
       "      <th>4</th>\n",
       "      <td>54</td>\n",
       "      <td>67</td>\n",
       "      <td>87</td>\n",
       "      <td>62</td>\n",
       "      <td>95</td>\n",
       "    </tr>\n",
       "    <tr>\n",
       "      <th>5</th>\n",
       "      <td>66</td>\n",
       "      <td>66</td>\n",
       "      <td>62</td>\n",
       "      <td>67</td>\n",
       "      <td>69</td>\n",
       "    </tr>\n",
       "    <tr>\n",
       "      <th>6</th>\n",
       "      <td>85</td>\n",
       "      <td>64</td>\n",
       "      <td>45</td>\n",
       "      <td>51</td>\n",
       "      <td>42</td>\n",
       "    </tr>\n",
       "    <tr>\n",
       "      <th>7</th>\n",
       "      <td>82</td>\n",
       "      <td>73</td>\n",
       "      <td>92</td>\n",
       "      <td>94</td>\n",
       "      <td>59</td>\n",
       "    </tr>\n",
       "    <tr>\n",
       "      <th>8</th>\n",
       "      <td>72</td>\n",
       "      <td>81</td>\n",
       "      <td>44</td>\n",
       "      <td>82</td>\n",
       "      <td>45</td>\n",
       "    </tr>\n",
       "    <tr>\n",
       "      <th>9</th>\n",
       "      <td>67</td>\n",
       "      <td>64</td>\n",
       "      <td>92</td>\n",
       "      <td>57</td>\n",
       "      <td>51</td>\n",
       "    </tr>\n",
       "  </tbody>\n",
       "</table>\n",
       "</div>"
      ],
      "text/plain": [
       "   语文  数学  英语  政治  体育\n",
       "0  45  64  71  62  68\n",
       "1  44  61  93  45  59\n",
       "2  41  61  64  48  78\n",
       "3  51  48  94  91  61\n",
       "4  54  67  87  62  95\n",
       "5  66  66  62  67  69\n",
       "6  85  64  45  51  42\n",
       "7  82  73  92  94  59\n",
       "8  72  81  44  82  45\n",
       "9  67  64  92  57  51"
      ]
     },
     "execution_count": 29,
     "metadata": {},
     "output_type": "execute_result"
    }
   ],
   "source": [
    "data.reset_index(drop=True)#删除之前的索引"
   ]
  },
  {
   "cell_type": "code",
   "execution_count": 30,
   "id": "d8ef5595-5a10-42f4-a8d4-dc073a0aeac8",
   "metadata": {},
   "outputs": [],
   "source": [
    "df = pd.DataFrame({'month':[1,4,7,10],'year':[2012,2014,2013,2014],'sale':[55,40,84,31]})"
   ]
  },
  {
   "cell_type": "code",
   "execution_count": 31,
   "id": "58580bc4-438e-4908-b763-5e7d0ba2e096",
   "metadata": {},
   "outputs": [
    {
     "data": {
      "text/html": [
       "<div>\n",
       "<style scoped>\n",
       "    .dataframe tbody tr th:only-of-type {\n",
       "        vertical-align: middle;\n",
       "    }\n",
       "\n",
       "    .dataframe tbody tr th {\n",
       "        vertical-align: top;\n",
       "    }\n",
       "\n",
       "    .dataframe thead th {\n",
       "        text-align: right;\n",
       "    }\n",
       "</style>\n",
       "<table border=\"1\" class=\"dataframe\">\n",
       "  <thead>\n",
       "    <tr style=\"text-align: right;\">\n",
       "      <th></th>\n",
       "      <th>month</th>\n",
       "      <th>year</th>\n",
       "      <th>sale</th>\n",
       "    </tr>\n",
       "  </thead>\n",
       "  <tbody>\n",
       "    <tr>\n",
       "      <th>0</th>\n",
       "      <td>1</td>\n",
       "      <td>2012</td>\n",
       "      <td>55</td>\n",
       "    </tr>\n",
       "    <tr>\n",
       "      <th>1</th>\n",
       "      <td>4</td>\n",
       "      <td>2014</td>\n",
       "      <td>40</td>\n",
       "    </tr>\n",
       "    <tr>\n",
       "      <th>2</th>\n",
       "      <td>7</td>\n",
       "      <td>2013</td>\n",
       "      <td>84</td>\n",
       "    </tr>\n",
       "    <tr>\n",
       "      <th>3</th>\n",
       "      <td>10</td>\n",
       "      <td>2014</td>\n",
       "      <td>31</td>\n",
       "    </tr>\n",
       "  </tbody>\n",
       "</table>\n",
       "</div>"
      ],
      "text/plain": [
       "   month  year  sale\n",
       "0      1  2012    55\n",
       "1      4  2014    40\n",
       "2      7  2013    84\n",
       "3     10  2014    31"
      ]
     },
     "execution_count": 31,
     "metadata": {},
     "output_type": "execute_result"
    }
   ],
   "source": [
    "df"
   ]
  },
  {
   "cell_type": "code",
   "execution_count": 37,
   "id": "125496a6-8b67-442d-9c66-6243cde710cb",
   "metadata": {},
   "outputs": [],
   "source": [
    "df.set_index('year')"
   ]
  },
  {
   "cell_type": "code",
   "execution_count": 33,
   "id": "76836939-888a-4f37-af3a-3dc42c8e5343",
   "metadata": {},
   "outputs": [
    {
     "data": {
      "text/plain": [
       "(4, 2)"
      ]
     },
     "execution_count": 33,
     "metadata": {},
     "output_type": "execute_result"
    }
   ],
   "source": [
    "df.set_index('year').shape"
   ]
  },
  {
   "cell_type": "code",
   "execution_count": 34,
   "id": "f0005a2f-0b0f-4ffc-8422-24d3de549d99",
   "metadata": {},
   "outputs": [
    {
     "data": {
      "text/html": [
       "<div>\n",
       "<style scoped>\n",
       "    .dataframe tbody tr th:only-of-type {\n",
       "        vertical-align: middle;\n",
       "    }\n",
       "\n",
       "    .dataframe tbody tr th {\n",
       "        vertical-align: top;\n",
       "    }\n",
       "\n",
       "    .dataframe thead th {\n",
       "        text-align: right;\n",
       "    }\n",
       "</style>\n",
       "<table border=\"1\" class=\"dataframe\">\n",
       "  <thead>\n",
       "    <tr style=\"text-align: right;\">\n",
       "      <th></th>\n",
       "      <th></th>\n",
       "      <th>sale</th>\n",
       "    </tr>\n",
       "    <tr>\n",
       "      <th>year</th>\n",
       "      <th>month</th>\n",
       "      <th></th>\n",
       "    </tr>\n",
       "  </thead>\n",
       "  <tbody>\n",
       "    <tr>\n",
       "      <th>2012</th>\n",
       "      <th>1</th>\n",
       "      <td>55</td>\n",
       "    </tr>\n",
       "    <tr>\n",
       "      <th>2014</th>\n",
       "      <th>4</th>\n",
       "      <td>40</td>\n",
       "    </tr>\n",
       "    <tr>\n",
       "      <th>2013</th>\n",
       "      <th>7</th>\n",
       "      <td>84</td>\n",
       "    </tr>\n",
       "    <tr>\n",
       "      <th>2014</th>\n",
       "      <th>10</th>\n",
       "      <td>31</td>\n",
       "    </tr>\n",
       "  </tbody>\n",
       "</table>\n",
       "</div>"
      ],
      "text/plain": [
       "            sale\n",
       "year month      \n",
       "2012 1        55\n",
       "2014 4        40\n",
       "2013 7        84\n",
       "2014 10       31"
      ]
     },
     "execution_count": 34,
     "metadata": {},
     "output_type": "execute_result"
    }
   ],
   "source": [
    "df.set_index(['year','month'])#具有multilndex的DataFrame"
   ]
  },
  {
   "cell_type": "code",
   "execution_count": 43,
   "id": "53a3a2e4-4e48-4637-a651-9e6614c6fe6b",
   "metadata": {},
   "outputs": [],
   "source": [
    "df = df.set_index(['year','month'])"
   ]
  },
  {
   "cell_type": "markdown",
   "id": "1f1dc95e-04ea-4753-9c64-4227cafbb73b",
   "metadata": {},
   "source": [
    "# 3 MulitIndex与Panel\n",
    "## 3.1 MultiIndex "
   ]
  },
  {
   "cell_type": "code",
   "execution_count": 44,
   "id": "af28b41a-9d2b-4ae3-8aa6-9777907f4def",
   "metadata": {},
   "outputs": [
    {
     "data": {
      "text/html": [
       "<div>\n",
       "<style scoped>\n",
       "    .dataframe tbody tr th:only-of-type {\n",
       "        vertical-align: middle;\n",
       "    }\n",
       "\n",
       "    .dataframe tbody tr th {\n",
       "        vertical-align: top;\n",
       "    }\n",
       "\n",
       "    .dataframe thead th {\n",
       "        text-align: right;\n",
       "    }\n",
       "</style>\n",
       "<table border=\"1\" class=\"dataframe\">\n",
       "  <thead>\n",
       "    <tr style=\"text-align: right;\">\n",
       "      <th></th>\n",
       "      <th></th>\n",
       "      <th>sale</th>\n",
       "    </tr>\n",
       "    <tr>\n",
       "      <th>year</th>\n",
       "      <th>month</th>\n",
       "      <th></th>\n",
       "    </tr>\n",
       "  </thead>\n",
       "  <tbody>\n",
       "    <tr>\n",
       "      <th>2012</th>\n",
       "      <th>1</th>\n",
       "      <td>55</td>\n",
       "    </tr>\n",
       "    <tr>\n",
       "      <th>2014</th>\n",
       "      <th>4</th>\n",
       "      <td>40</td>\n",
       "    </tr>\n",
       "    <tr>\n",
       "      <th>2013</th>\n",
       "      <th>7</th>\n",
       "      <td>84</td>\n",
       "    </tr>\n",
       "    <tr>\n",
       "      <th>2014</th>\n",
       "      <th>10</th>\n",
       "      <td>31</td>\n",
       "    </tr>\n",
       "  </tbody>\n",
       "</table>\n",
       "</div>"
      ],
      "text/plain": [
       "            sale\n",
       "year month      \n",
       "2012 1        55\n",
       "2014 4        40\n",
       "2013 7        84\n",
       "2014 10       31"
      ]
     },
     "execution_count": 44,
     "metadata": {},
     "output_type": "execute_result"
    }
   ],
   "source": [
    "df"
   ]
  },
  {
   "cell_type": "code",
   "execution_count": 45,
   "id": "c4dde070-3e4c-4cda-aa25-1c12181209e9",
   "metadata": {},
   "outputs": [
    {
     "data": {
      "text/plain": [
       "MultiIndex([(2012,  1),\n",
       "            (2014,  4),\n",
       "            (2013,  7),\n",
       "            (2014, 10)],\n",
       "           names=['year', 'month'])"
      ]
     },
     "execution_count": 45,
     "metadata": {},
     "output_type": "execute_result"
    }
   ],
   "source": [
    "df.index"
   ]
  },
  {
   "cell_type": "code",
   "execution_count": 46,
   "id": "8079aac9-f574-4404-a822-6baf26d94021",
   "metadata": {},
   "outputs": [
    {
     "data": {
      "text/plain": [
       "FrozenList(['year', 'month'])"
      ]
     },
     "execution_count": 46,
     "metadata": {},
     "output_type": "execute_result"
    }
   ],
   "source": [
    "df.index.names#双索引"
   ]
  },
  {
   "cell_type": "code",
   "execution_count": 47,
   "id": "9f75cf91-05c9-4c1b-8f78-e47380e7cb27",
   "metadata": {},
   "outputs": [
    {
     "data": {
      "text/plain": [
       "FrozenList([[2012, 2013, 2014], [1, 4, 7, 10]])"
      ]
     },
     "execution_count": 47,
     "metadata": {},
     "output_type": "execute_result"
    }
   ],
   "source": [
    "df.index.levels"
   ]
  },
  {
   "cell_type": "code",
   "execution_count": 50,
   "id": "f65c2e49-3852-41a4-80ce-cea565a8c949",
   "metadata": {},
   "outputs": [
    {
     "data": {
      "text/plain": [
       "MultiIndex([(1, 'r'),\n",
       "            (2, 'y'),\n",
       "            (1, 'r'),\n",
       "            (2, 'b')],\n",
       "           names=['num', 'col'])"
      ]
     },
     "execution_count": 50,
     "metadata": {},
     "output_type": "execute_result"
    }
   ],
   "source": [
    "arrays = [[1,2,1,2],['r','y','r','b']]\n",
    "pd.MultiIndex.from_arrays(arrays,names=('num','col'))"
   ]
  },
  {
   "cell_type": "code",
   "execution_count": null,
   "id": "2beaf002-3f97-49d8-b07c-1eb1a4972154",
   "metadata": {},
   "outputs": [],
   "source": []
  }
 ],
 "metadata": {
  "kernelspec": {
   "display_name": "Python 3",
   "language": "python",
   "name": "python3"
  },
  "language_info": {
   "codemirror_mode": {
    "name": "ipython",
    "version": 3
   },
   "file_extension": ".py",
   "mimetype": "text/x-python",
   "name": "python",
   "nbconvert_exporter": "python",
   "pygments_lexer": "ipython3",
   "version": "3.9.6"
  },
  "toc-autonumbering": false,
  "toc-showcode": false
 },
 "nbformat": 4,
 "nbformat_minor": 5
}
