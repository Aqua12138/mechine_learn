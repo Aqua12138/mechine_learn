{
 "cells": [
  {
   "cell_type": "markdown",
   "id": "8fb44e8c-8da9-4137-9c3f-600a59b6c7ce",
   "metadata": {},
   "source": [
    "# 1 逻辑运算"
   ]
  },
  {
   "cell_type": "markdown",
   "id": "5daf8df0-595b-4e1f-bc1f-af80dd7f8f11",
   "metadata": {},
   "source": [
    "## 1.1 > = <判断"
   ]
  },
  {
   "cell_type": "code",
   "execution_count": 2,
   "id": "6bb9ab75-c5bd-4925-b0f6-bf073647f509",
   "metadata": {},
   "outputs": [],
   "source": [
    "import numpy as np"
   ]
  },
  {
   "cell_type": "code",
   "execution_count": 37,
   "id": "bacfa063-80d6-46ce-829e-0deb2e55b5b6",
   "metadata": {},
   "outputs": [
    {
     "name": "stdout",
     "output_type": "stream",
     "text": [
      "[[86 91 85 47 73]\n",
      " [86 75 87 59 64]\n",
      " [56 73 69 76 75]\n",
      " [99 88 44 44 81]\n",
      " [83 41 84 51 83]\n",
      " [51 52 55 96 90]\n",
      " [80 94 41 60 56]\n",
      " [92 71 46 70 76]\n",
      " [52 58 82 80 87]\n",
      " [48 90 55 56 65]]\n"
     ]
    }
   ],
   "source": [
    "score = np.random.randint(40,100,[10,5])\n",
    "print(score)"
   ]
  },
  {
   "cell_type": "code",
   "execution_count": 38,
   "id": "a704402e-ff9e-4d6f-a6f6-1f6cc0d18e55",
   "metadata": {},
   "outputs": [
    {
     "data": {
      "text/plain": [
       "array([[80, 94, 41, 60, 56],\n",
       "       [92, 71, 46, 70, 76],\n",
       "       [52, 58, 82, 80, 87],\n",
       "       [48, 90, 55, 56, 65]])"
      ]
     },
     "execution_count": 38,
     "metadata": {},
     "output_type": "execute_result"
    }
   ],
   "source": [
    "test_score = score[6:,0:5]\n",
    "test_score"
   ]
  },
  {
   "cell_type": "code",
   "execution_count": 40,
   "id": "86b88551-be3c-4f6a-a884-47cdb1a864fd",
   "metadata": {},
   "outputs": [
    {
     "name": "stdout",
     "output_type": "stream",
     "text": [
      "[[ True  True False False False]\n",
      " [ True  True False  True  True]\n",
      " [False False  True  True  True]\n",
      " [False  True False False  True]]\n"
     ]
    }
   ],
   "source": [
    "test_score > 60\n",
    "print(test_score>60)"
   ]
  },
  {
   "cell_type": "code",
   "execution_count": 34,
   "id": "ae558012-978c-48b6-a669-2deef412adf6",
   "metadata": {},
   "outputs": [],
   "source": [
    "test_score[test_score <= 60] = 0#将内部小于等于60的数据变为0\n",
    "test_score[test_score > 60] = 1#将内部大于60的数据变为1   "
   ]
  },
  {
   "cell_type": "code",
   "execution_count": 35,
   "id": "237a9892-1453-447c-8d97-8b75f8107e8f",
   "metadata": {},
   "outputs": [
    {
     "data": {
      "text/plain": [
       "array([[1, 1, 1, 1, 0],\n",
       "       [1, 1, 1, 1, 0],\n",
       "       [1, 0, 0, 0, 1],\n",
       "       [1, 1, 1, 1, 0]])"
      ]
     },
     "execution_count": 35,
     "metadata": {},
     "output_type": "execute_result"
    }
   ],
   "source": [
    "test_score"
   ]
  },
  {
   "cell_type": "markdown",
   "id": "ad50511a-d241-492e-a345-4be6bb184aa5",
   "metadata": {},
   "source": [
    "## 1.2 通用判断函数"
   ]
  },
  {
   "cell_type": "markdown",
   "id": "df266366-a424-466d-8fd2-6860fafa1a23",
   "metadata": {},
   "source": [
    "### 1.2.1逻辑与 或"
   ]
  },
  {
   "cell_type": "code",
   "execution_count": 41,
   "id": "0838e78a-30ab-4521-8948-21bea20821fc",
   "metadata": {},
   "outputs": [
    {
     "data": {
      "text/plain": [
       "False"
      ]
     },
     "execution_count": 41,
     "metadata": {},
     "output_type": "execute_result"
    }
   ],
   "source": [
    "np.all(score[:2]>60)#前两组同学是否全部大于60"
   ]
  },
  {
   "cell_type": "code",
   "execution_count": 42,
   "id": "ea3c3331-f7e9-4ee1-81b3-2a061040b37a",
   "metadata": {},
   "outputs": [
    {
     "data": {
      "text/plain": [
       "True"
      ]
     },
     "execution_count": 42,
     "metadata": {},
     "output_type": "execute_result"
    }
   ],
   "source": [
    "np.any(score[:2]>90)#前两组同学是否有大于90的"
   ]
  },
  {
   "cell_type": "code",
   "execution_count": 45,
   "id": "2779d0ce-f9d3-421c-a0ca-496f934b8647",
   "metadata": {},
   "outputs": [
    {
     "data": {
      "text/plain": [
       "array([[86, 91, 85, 47],\n",
       "       [86, 75, 87, 59],\n",
       "       [56, 73, 69, 76],\n",
       "       [99, 88, 44, 44]])"
      ]
     },
     "execution_count": 45,
     "metadata": {},
     "output_type": "execute_result"
    }
   ],
   "source": [
    "temp = score[:4,:4]#取前四名同学的前四个科目\n",
    "temp"
   ]
  },
  {
   "cell_type": "code",
   "execution_count": 47,
   "id": "988d6cad-83a9-4de4-a498-ca6ed8c24506",
   "metadata": {},
   "outputs": [
    {
     "data": {
      "text/plain": [
       "array([[1, 1, 1, 0],\n",
       "       [1, 1, 1, 0],\n",
       "       [0, 1, 1, 1],\n",
       "       [1, 1, 0, 0]])"
      ]
     },
     "execution_count": 47,
     "metadata": {},
     "output_type": "execute_result"
    }
   ],
   "source": [
    "np.where(temp > 60,1,0)#大于60为1，否则0 取代前面的test_score[test_score > 60] = 1 where运算不会改变score的值"
   ]
  },
  {
   "cell_type": "code",
   "execution_count": 48,
   "id": "b8ee7f80-895e-4965-947d-6b1c13f93669",
   "metadata": {},
   "outputs": [
    {
     "data": {
      "text/plain": [
       "array([[1, 0, 1, 0],\n",
       "       [1, 1, 1, 0],\n",
       "       [0, 1, 1, 1],\n",
       "       [0, 1, 0, 0]])"
      ]
     },
     "execution_count": 48,
     "metadata": {},
     "output_type": "execute_result"
    }
   ],
   "source": [
    "np.where(np.logical_and(temp >60 , temp < 90), 1, 0)#np.logical_and()是与逻辑运算"
   ]
  },
  {
   "cell_type": "code",
   "execution_count": 51,
   "id": "a7f37c0e-197f-42ce-a41d-f01f7607128a",
   "metadata": {},
   "outputs": [
    {
     "data": {
      "text/plain": [
       "array([[0, 1, 0, 1],\n",
       "       [0, 0, 0, 1],\n",
       "       [1, 0, 0, 0],\n",
       "       [1, 0, 1, 1]])"
      ]
     },
     "execution_count": 51,
     "metadata": {},
     "output_type": "execute_result"
    }
   ],
   "source": [
    "np.where(np.logical_or(temp <60 , temp > 90), 1, 0)#np.logical_or()是或逻辑运算"
   ]
  },
  {
   "cell_type": "code",
   "execution_count": 49,
   "id": "03216ede-d74b-4062-8af3-2f2e3f71bb89",
   "metadata": {},
   "outputs": [
    {
     "data": {
      "text/plain": [
       "array([[86, 91, 85, 47],\n",
       "       [86, 75, 87, 59],\n",
       "       [56, 73, 69, 76],\n",
       "       [99, 88, 44, 44]])"
      ]
     },
     "execution_count": 49,
     "metadata": {},
     "output_type": "execute_result"
    }
   ],
   "source": [
    "temp #where运算不会改变score的值"
   ]
  },
  {
   "cell_type": "markdown",
   "id": "2c640c67-4f90-437d-ac00-a8a1d88eca45",
   "metadata": {},
   "source": [
    "# 2 统计运算（最大最小）"
   ]
  },
  {
   "cell_type": "code",
   "execution_count": 54,
   "id": "b407118a-fd2f-4fed-80b2-200d566661c0",
   "metadata": {},
   "outputs": [
    {
     "data": {
      "text/plain": [
       "array([[86, 91, 85, 47, 73],\n",
       "       [86, 75, 87, 59, 64],\n",
       "       [56, 73, 69, 76, 75],\n",
       "       [99, 88, 44, 44, 81]])"
      ]
     },
     "execution_count": 54,
     "metadata": {},
     "output_type": "execute_result"
    }
   ],
   "source": [
    "temp = score[:4]\n",
    "temp"
   ]
  },
  {
   "cell_type": "code",
   "execution_count": 55,
   "id": "f08f0890-701a-469c-9075-6ec2ee06f9f1",
   "metadata": {},
   "outputs": [
    {
     "data": {
      "text/plain": [
       "99"
      ]
     },
     "execution_count": 55,
     "metadata": {},
     "output_type": "execute_result"
    }
   ],
   "source": [
    "np.max(temp)#全部的最大值    max最大值 min最小值 median中位数 mean平均值 std标准差 var方差"
   ]
  },
  {
   "cell_type": "code",
   "execution_count": 56,
   "id": "f5dbadb9-b0d3-4b78-9e2f-6a02ea08f974",
   "metadata": {},
   "outputs": [
    {
     "data": {
      "text/plain": [
       "72.9"
      ]
     },
     "execution_count": 56,
     "metadata": {},
     "output_type": "execute_result"
    }
   ],
   "source": [
    "np.mean(temp)#平均值"
   ]
  },
  {
   "cell_type": "code",
   "execution_count": 58,
   "id": "4b3e5549-1ea8-4baf-9150-2850c529535f",
   "metadata": {},
   "outputs": [
    {
     "data": {
      "text/plain": [
       "array([99, 91, 87, 76, 81])"
      ]
     },
     "execution_count": 58,
     "metadata": {},
     "output_type": "execute_result"
    }
   ],
   "source": [
    "np.max(temp, axis = 0)#axis = 0 表示按照列求最大值"
   ]
  },
  {
   "cell_type": "code",
   "execution_count": 59,
   "id": "6081569d-0080-4c31-9218-af84a4cd78a0",
   "metadata": {},
   "outputs": [
    {
     "data": {
      "text/plain": [
       "array([91, 87, 76, 99])"
      ]
     },
     "execution_count": 59,
     "metadata": {},
     "output_type": "execute_result"
    }
   ],
   "source": [
    "np.max(temp, axis = 1)#行最大值"
   ]
  },
  {
   "cell_type": "code",
   "execution_count": 60,
   "id": "06cccf31-45ec-424f-a431-82d38a8d8508",
   "metadata": {},
   "outputs": [
    {
     "data": {
      "text/plain": [
       "15"
      ]
     },
     "execution_count": 60,
     "metadata": {},
     "output_type": "execute_result"
    }
   ],
   "source": [
    "np.argmax(temp)#最大值的位置"
   ]
  },
  {
   "cell_type": "code",
   "execution_count": 62,
   "id": "491d9fb0-a93c-475a-ae75-f87af1313b7a",
   "metadata": {},
   "outputs": [
    {
     "data": {
      "text/plain": [
       "array([3, 0, 1, 2, 3])"
      ]
     },
     "execution_count": 62,
     "metadata": {},
     "output_type": "execute_result"
    }
   ],
   "source": [
    "np.argmax(temp, axis = 0)"
   ]
  },
  {
   "cell_type": "code",
   "execution_count": 63,
   "id": "e7b18d23-24a5-4f2b-8c2f-68994a256439",
   "metadata": {},
   "outputs": [
    {
     "data": {
      "text/plain": [
       "array([1, 2, 3, 0])"
      ]
     },
     "execution_count": 63,
     "metadata": {},
     "output_type": "execute_result"
    }
   ],
   "source": [
    "np.argmax(temp, axis = 1)"
   ]
  },
  {
   "cell_type": "markdown",
   "id": "9be653a5-d19d-47b2-b8f6-eb01ef9968e7",
   "metadata": {},
   "source": [
    "# 3 数组间运算"
   ]
  },
  {
   "cell_type": "markdown",
   "id": "f8d60b3c-2cca-4385-9aa0-e003a8c0516e",
   "metadata": {},
   "source": [
    "## numpy矩阵相加机制（广播机制）：1.某一维度相等 2. 其中一维是1 所有维度满足均满足其中一个就可以运算 （一维可以扩展）"
   ]
  },
  {
   "cell_type": "code",
   "execution_count": 64,
   "id": "3192b007-2237-4339-ae90-8f55dafe6438",
   "metadata": {},
   "outputs": [
    {
     "data": {
      "text/plain": [
       "array([[1, 2, 3],\n",
       "       [3, 4, 5]])"
      ]
     },
     "execution_count": 64,
     "metadata": {},
     "output_type": "execute_result"
    }
   ],
   "source": [
    "a = np.array([[1,2,3],[3,4,5]])\n",
    "a"
   ]
  },
  {
   "cell_type": "code",
   "execution_count": 65,
   "id": "5f3dd9f2-f38b-4b55-ba65-8ddf3ae29e48",
   "metadata": {},
   "outputs": [
    {
     "data": {
      "text/plain": [
       "array([[4, 5, 6],\n",
       "       [6, 7, 8]])"
      ]
     },
     "execution_count": 65,
     "metadata": {},
     "output_type": "execute_result"
    }
   ],
   "source": [
    "a + 3"
   ]
  },
  {
   "cell_type": "code",
   "execution_count": 66,
   "id": "b3d4f99c-91bc-4984-a9f2-476798fb1551",
   "metadata": {},
   "outputs": [
    {
     "data": {
      "text/plain": [
       "array([[0.5, 1. , 1.5],\n",
       "       [1.5, 2. , 2.5]])"
      ]
     },
     "execution_count": 66,
     "metadata": {},
     "output_type": "execute_result"
    }
   ],
   "source": [
    "a / 2"
   ]
  },
  {
   "cell_type": "code",
   "execution_count": 67,
   "id": "41ae2bc1-4765-44c5-80c0-c7a41a01a3d3",
   "metadata": {},
   "outputs": [],
   "source": [
    "b = [1,2,3]"
   ]
  },
  {
   "cell_type": "code",
   "execution_count": 68,
   "id": "0b57fb57-92b6-4e2a-8d83-a630b7c8d3fc",
   "metadata": {},
   "outputs": [
    {
     "data": {
      "text/plain": [
       "[1, 2, 3, 1, 2, 3, 1, 2, 3]"
      ]
     },
     "execution_count": 68,
     "metadata": {},
     "output_type": "execute_result"
    }
   ],
   "source": [
    "b*3"
   ]
  },
  {
   "cell_type": "code",
   "execution_count": 69,
   "id": "6899b6c0-4500-466f-91f1-6d031f8696f3",
   "metadata": {},
   "outputs": [
    {
     "data": {
      "text/plain": [
       "array([[ 3,  6,  9],\n",
       "       [ 9, 12, 15]])"
      ]
     },
     "execution_count": 69,
     "metadata": {},
     "output_type": "execute_result"
    }
   ],
   "source": [
    "a * 3"
   ]
  },
  {
   "cell_type": "code",
   "execution_count": 70,
   "id": "e3028848-d983-4954-9307-067a8c1f5129",
   "metadata": {},
   "outputs": [],
   "source": [
    "arr1 = np.array([[1,2,3,2,1,4],[5,6,1,2,3,1]])\n",
    "arr2 = np.array([[1,2,3,4,5,6],[8,7,6,5,4,3]])"
   ]
  },
  {
   "cell_type": "code",
   "execution_count": 71,
   "id": "3376155c-0970-4651-8de3-316995df1db6",
   "metadata": {},
   "outputs": [
    {
     "data": {
      "text/plain": [
       "array([[ 2,  4,  6,  6,  6, 10],\n",
       "       [13, 13,  7,  7,  7,  4]])"
      ]
     },
     "execution_count": 71,
     "metadata": {},
     "output_type": "execute_result"
    }
   ],
   "source": [
    "arr1+arr2#加法"
   ]
  },
  {
   "cell_type": "code",
   "execution_count": null,
   "id": "a6300633-fa00-471d-b005-c3d759473034",
   "metadata": {},
   "outputs": [],
   "source": [
    "\n"
   ]
  },
  {
   "cell_type": "code",
   "execution_count": 1,
   "id": "f9c5ee00-f6c8-4ac9-a028-4cd5dba578f9",
   "metadata": {},
   "outputs": [
    {
     "ename": "NameError",
     "evalue": "name 'pd' is not defined",
     "output_type": "error",
     "traceback": [
      "\u001b[0;31m---------------------------------------------------------------------------\u001b[0m",
      "\u001b[0;31mNameError\u001b[0m                                 Traceback (most recent call last)",
      "\u001b[0;32m<ipython-input-1-9ae975f709e5>\u001b[0m in \u001b[0;36m<module>\u001b[0;34m\u001b[0m\n\u001b[0;32m----> 1\u001b[0;31m \u001b[0mo\u001b[0m \u001b[0;34m=\u001b[0m \u001b[0mpd\u001b[0m\u001b[0;34m.\u001b[0m\u001b[0mdataFrame\u001b[0m\u001b[0;34m(\u001b[0m\u001b[0;34m)\u001b[0m\u001b[0;34m\u001b[0m\u001b[0;34m\u001b[0m\u001b[0m\n\u001b[0m",
      "\u001b[0;31mNameError\u001b[0m: name 'pd' is not defined"
     ]
    }
   ],
   "source": []
  },
  {
   "cell_type": "code",
   "execution_count": null,
   "id": "d8bd7853-a147-41fa-bc1d-8e3cd479dc87",
   "metadata": {},
   "outputs": [],
   "source": []
  }
 ],
 "metadata": {
  "kernelspec": {
   "display_name": "Python 3",
   "language": "python",
   "name": "python3"
  },
  "language_info": {
   "codemirror_mode": {
    "name": "ipython",
    "version": 3
   },
   "file_extension": ".py",
   "mimetype": "text/x-python",
   "name": "python",
   "nbconvert_exporter": "python",
   "pygments_lexer": "ipython3",
   "version": "3.9.6"
  }
 },
 "nbformat": 4,
 "nbformat_minor": 5
}
