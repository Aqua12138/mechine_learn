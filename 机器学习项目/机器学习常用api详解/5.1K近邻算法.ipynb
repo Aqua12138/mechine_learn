{
 "cells": [
  {
   "cell_type": "markdown",
   "id": "3b39414e-583d-4807-951b-64a58d77869e",
   "metadata": {},
   "source": [
    "#### from sklearn.neighbors import KNeighborsClassifier as KN\n",
    "#1.构造数据\n",
    "x = [[1],[2],[10],[20]]123\n",
    "y = [0,0,1,1]\n",
    "#2.训练模型\n",
    "#2.1实例化一个估计器对象\n",
    "estimator = KN(n_neighbors = 1)\n",
    "#2.2 调用fit方法，进行训练\n",
    "estimator.fit(x,y)\n",
    "#3.数据预测\n",
    "ret = estimator.predict([[0]])\n",
    "print(ret)\n",
    "ret2 = estimator.predict(([[100]]))\n",
    "print(ret2)"
   ]
  },
  {
   "cell_type": "code",
   "execution_count": null,
   "id": "f04d5a86-cb24-4a94-9c54-2ee0a1b4ed8d",
   "metadata": {},
   "outputs": [],
   "source": []
  }
 ],
 "metadata": {
  "kernelspec": {
   "display_name": "Python 3 (ipykernel)",
   "language": "python",
   "name": "python3"
  },
  "language_info": {
   "codemirror_mode": {
    "name": "ipython",
    "version": 3
   },
   "file_extension": ".py",
   "mimetype": "text/x-python",
   "name": "python",
   "nbconvert_exporter": "python",
   "pygments_lexer": "ipython3",
   "version": "3.8.10"
  }
 },
 "nbformat": 4,
 "nbformat_minor": 5
}
