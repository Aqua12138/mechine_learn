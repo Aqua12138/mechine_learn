{
 "cells": [
  {
   "cell_type": "code",
   "execution_count": 2,
   "id": "c0331cf1-9042-4794-b446-35ebbe6a5d3e",
   "metadata": {},
   "outputs": [],
   "source": [
    "import numpy as np"
   ]
  },
  {
   "cell_type": "markdown",
   "id": "5a9a51cd-7e23-4a03-8059-482344a9bf12",
   "metadata": {},
   "source": [
    "1 hello-numpy"
   ]
  },
  {
   "cell_type": "markdown",
   "id": "da49a1fc-4f46-4b9d-af16-ff8764bb5746",
   "metadata": {},
   "source": [
    "1.1初始化numpy"
   ]
  },
  {
   "cell_type": "code",
   "execution_count": 3,
   "id": "77fcc972-e153-4a5f-bd9b-a340f2e5b189",
   "metadata": {},
   "outputs": [],
   "source": [
    "score = np.array([[80,89,85,84,88],[79,59,89,99,78],[56,54,23,66,76],[87,68,88,99,78],[23,65,77,88,99]])"
   ]
  },
  {
   "cell_type": "code",
   "execution_count": 4,
   "id": "40dab8b2-7798-4a47-a9b6-d6623cf709c4",
   "metadata": {},
   "outputs": [
    {
     "data": {
      "text/plain": [
       "array([[80, 89, 85, 84, 88],\n",
       "       [79, 59, 89, 99, 78],\n",
       "       [56, 54, 23, 66, 76],\n",
       "       [87, 68, 88, 99, 78],\n",
       "       [23, 65, 77, 88, 99]])"
      ]
     },
     "execution_count": 4,
     "metadata": {},
     "output_type": "execute_result"
    }
   ],
   "source": [
    "score"
   ]
  },
  {
   "cell_type": "markdown",
   "id": "f80542cb-900a-48c2-b7fc-4013c9e35be4",
   "metadata": {},
   "source": [
    "1.2 数组属性"
   ]
  },
  {
   "cell_type": "code",
   "execution_count": 5,
   "id": "8f3acbb1-9030-41d7-9884-79c5d98594a0",
   "metadata": {},
   "outputs": [
    {
     "data": {
      "text/plain": [
       "(5, 5)"
      ]
     },
     "execution_count": 5,
     "metadata": {},
     "output_type": "execute_result"
    }
   ],
   "source": [
    "score.shape#数组纬度的元组"
   ]
  },
  {
   "cell_type": "code",
   "execution_count": 6,
   "id": "8ef746c0-32c8-434f-812b-8d53bac4549e",
   "metadata": {},
   "outputs": [
    {
     "data": {
      "text/plain": [
       "2"
      ]
     },
     "execution_count": 6,
     "metadata": {},
     "output_type": "execute_result"
    }
   ],
   "source": [
    "score.ndim#数组维数"
   ]
  },
  {
   "cell_type": "code",
   "execution_count": 7,
   "id": "a392cdbf-cc6e-45e3-a1ae-ed3b26446c08",
   "metadata": {},
   "outputs": [
    {
     "data": {
      "text/plain": [
       "25"
      ]
     },
     "execution_count": 7,
     "metadata": {},
     "output_type": "execute_result"
    }
   ],
   "source": [
    "score.size#数组的元素数量"
   ]
  },
  {
   "cell_type": "code",
   "execution_count": 8,
   "id": "13dc6420-8b2b-456c-98bd-719c99be08f2",
   "metadata": {},
   "outputs": [
    {
     "data": {
      "text/plain": [
       "8"
      ]
     },
     "execution_count": 8,
     "metadata": {},
     "output_type": "execute_result"
    }
   ],
   "source": [
    "score.itemsize#每个元素占用的字节"
   ]
  },
  {
   "cell_type": "code",
   "execution_count": 9,
   "id": "c00a46af-2311-4cde-8ce8-a7233e8b2d65",
   "metadata": {},
   "outputs": [
    {
     "data": {
      "text/plain": [
       "dtype('int64')"
      ]
     },
     "execution_count": 9,
     "metadata": {},
     "output_type": "execute_result"
    }
   ],
   "source": [
    "score.dtype#元素类型"
   ]
  },
  {
   "cell_type": "markdown",
   "id": "3da3f101-01b5-4c5e-bf74-1a79ab1ffdce",
   "metadata": {},
   "source": [
    "1.3 数组的形状（维度）"
   ]
  },
  {
   "cell_type": "code",
   "execution_count": 16,
   "id": "276e83f0-d2c4-446a-aa44-4f0c45fd310f",
   "metadata": {},
   "outputs": [
    {
     "name": "stdout",
     "output_type": "stream",
     "text": [
      "[1 2 3]\n"
     ]
    },
    {
     "data": {
      "text/plain": [
       "(3,)"
      ]
     },
     "execution_count": 16,
     "metadata": {},
     "output_type": "execute_result"
    }
   ],
   "source": [
    "a = np.array([1,2,3])\n",
    "print(a)\n",
    "a.shape"
   ]
  },
  {
   "cell_type": "code",
   "execution_count": 19,
   "id": "bf4a204b-f42f-482b-850c-bb384863d7b6",
   "metadata": {},
   "outputs": [
    {
     "name": "stdout",
     "output_type": "stream",
     "text": [
      "[[1 2 3]\n",
      " [4 5 6]]\n"
     ]
    },
    {
     "data": {
      "text/plain": [
       "(2, 3)"
      ]
     },
     "execution_count": 19,
     "metadata": {},
     "output_type": "execute_result"
    }
   ],
   "source": [
    "b = np.array([[1,2,3],[4,5,6]])\n",
    "print(b)\n",
    "b.shape"
   ]
  },
  {
   "cell_type": "code",
   "execution_count": 21,
   "id": "baa6d186-4388-46dd-b6c6-0a9b7b152377",
   "metadata": {},
   "outputs": [
    {
     "name": "stdout",
     "output_type": "stream",
     "text": [
      "[[[1 2 3]\n",
      "  [4 5 6]]\n",
      "\n",
      " [[1 2 3]\n",
      "  [4 5 6]]]\n"
     ]
    },
    {
     "data": {
      "text/plain": [
       "(2, 2, 3)"
      ]
     },
     "execution_count": 21,
     "metadata": {},
     "output_type": "execute_result"
    }
   ],
   "source": [
    "c = np.array([[[1,2,3],[4,5,6]],[[1,2,3],[4,5,6]]])\n",
    "print(c)\n",
    "c.shape"
   ]
  },
  {
   "cell_type": "markdown",
   "id": "be2494ff-c7c5-41f6-9616-8dca293cde8f",
   "metadata": {},
   "source": [
    "1.4 数组的类型"
   ]
  },
  {
   "cell_type": "code",
   "execution_count": 23,
   "id": "d542a20e-881d-4ec0-b487-debfb10c55c8",
   "metadata": {},
   "outputs": [
    {
     "name": "stdout",
     "output_type": "stream",
     "text": [
      "[[1. 2. 3.]\n",
      " [4. 5. 6.]]\n"
     ]
    }
   ],
   "source": [
    "b = np.array([[1,2,3],[4,5,6]],dtype=np.float32)#指定类型\n",
    "print(b)"
   ]
  },
  {
   "cell_type": "code",
   "execution_count": 25,
   "id": "99ed11ca-1ecf-4e30-a8c0-49455f172d1c",
   "metadata": {},
   "outputs": [
    {
     "name": "stdout",
     "output_type": "stream",
     "text": [
      "[b'python' b'numpy']\n"
     ]
    }
   ],
   "source": [
    "arr = np.array(['python','numpy'],dtype=np.string_)\n",
    "print(arr)"
   ]
  },
  {
   "cell_type": "code",
   "execution_count": 26,
   "id": "0243c2d6-9b55-4b30-a0f5-be25c3515e54",
   "metadata": {},
   "outputs": [
    {
     "data": {
      "text/plain": [
       "array([b'python', b'numpy'], dtype='|S6')"
      ]
     },
     "execution_count": 26,
     "metadata": {},
     "output_type": "execute_result"
    }
   ],
   "source": [
    "arr#dtype='|S6'b表示元素中最长的字符为6"
   ]
  },
  {
   "cell_type": "code",
   "execution_count": null,
   "id": "c94f80f7-250a-4820-b495-f0514b043d0f",
   "metadata": {},
   "outputs": [],
   "source": []
  }
 ],
 "metadata": {
  "kernelspec": {
   "display_name": "Python 3",
   "language": "python",
   "name": "python3"
  },
  "language_info": {
   "codemirror_mode": {
    "name": "ipython",
    "version": 3
   },
   "file_extension": ".py",
   "mimetype": "text/x-python",
   "name": "python",
   "nbconvert_exporter": "python",
   "pygments_lexer": "ipython3",
   "version": "3.9.6"
  }
 },
 "nbformat": 4,
 "nbformat_minor": 5
}
